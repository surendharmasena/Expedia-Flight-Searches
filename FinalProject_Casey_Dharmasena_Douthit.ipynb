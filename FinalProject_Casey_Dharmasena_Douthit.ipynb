{
 "cells": [
  {
   "cell_type": "markdown",
   "id": "c1403a8e",
   "metadata": {},
   "source": [
    "# OMIS 114 Final Project - Flight Prices\n",
    "#### By John Casey, Austin Douthit, and Suren Dharmasena"
   ]
  },
  {
   "cell_type": "markdown",
   "id": "28d4eeae",
   "metadata": {},
   "source": [
    "## Data Set Description"
   ]
  },
  {
   "cell_type": "markdown",
   "id": "83c79932",
   "metadata": {},
   "source": [
    "This data set represents searches that took place on Expedia between April 16th, 2022 and October 5th, 2022. Each row represents a purchasable ticket found on the sight that are to/from 16 different airports across the US those airports being ATL, DFW, DEN, ORD, LAX, CLT, MIA, JFK, EWR, SFO, DTW, BOS, PHL, LGA, IAD, and OAK. "
   ]
  },
  {
   "cell_type": "markdown",
   "id": "e0ee789a",
   "metadata": {},
   "source": [
    "## Data Dictionary"
   ]
  },
  {
   "cell_type": "markdown",
   "id": "ada61746",
   "metadata": {},
   "source": [
    "Below is the data dictionary that defines each column and the data contained within each:"
   ]
  },
  {
   "cell_type": "markdown",
   "id": "d0194db1",
   "metadata": {},
   "source": [
    "* <b>searchDate</b>: The date (YYYY-MM-DD) on which this entry was taken from Expedia.\n",
    "* <b>searchDayofWeek</b>: The day of the week (0=Monday, 6=Sunday) when the Expedia search was made.\n",
    "* <b>flightDate</b>: The date (YYYY-MM-DD) of the flight.\n",
    "* <b>flightDayofWeek</b>: The day of the week (0=Monday, 6=Sunday) for the scheduled trip.\n",
    "* <b>startingAirport</b>: Three-character IATA airport code for the initial location.\n",
    "* <b>layoverAirport</b>: Three-character IATA airport code for the layover.\n",
    "* <b>destinationAirport</b>: Three-character IATA airport code for the arrival location.\n",
    "* <b>baseFare</b>: The price of the ticket (in USD).\n",
    "* <b>totalFare</b>: The price of the ticket (in USD) including taxes and other fees.\n",
    "* <b>totalTravelDistance</b>: The total travel distance in miles. This data is sometimes missing.\n",
    "* <b>segment1distance</b>: int containing the total duration of the first leg of the trip in miles\n",
    "* <b>segment2distance</b>: int containing the total duration of the second leg of the trip in miles\n",
    "* <b>travelminutes</b>: Int with total travel time of flights in minutes\n",
    "* <b>segment1min</b>: int containing the number of minutes in the first leg of the trip\n",
    "* <b>segment2min</b>:  int containing the number of minutes in the second leg of the trip\n",
    "* <b>segment1AirlineName</b>: string containing the name of the airline for the first leg of the trip\n",
    "* <b>segment2AirlineName</b>: string containing the name of the airline for the second leg of the trip\n",
    "* <b>segment1DepartureTime</b>: string containing the departure time for the first leg of the trip (in HR:MN:SS format)\n",
    "* <b>segment1ArrivalTime</b>: string containing the arrival time for the first leg of the trip (in HR:MN:SS format)\n",
    "* <b>segment2DepartureTime</b>: string containing the departure time for the second leg of the trip (in HR:MN:SS format) \n",
    "* <b>segment2ArrivalTime</b>: string containing the arrival time for the second leg of the trip (in HR:MN:SS format) \n",
    "* <b>layoverduration</b>: int containing the number of minutes spent between legs of the trip.\n",
    "* <b>segment1CabinCode</b>: string containing the cabin for the first leg of the of the trip (e.g. “coach”)\n",
    "* <b>segment2CabinCode</b>: string containing the cabin for the first leg of the of the trip (e.g. “coach”)\n",
    "* <b>segment1EquipmentDescription</b>: string containing the type of airplane used in the first leg of the trip\n",
    "* <b>segment2EquipmentDescription</b>: string containing the type of airplane used in the second leg of the trip\n",
    "* <b>isBasicEconomy</b>: Boolean for whether the ticket is for basic economy."
   ]
  },
  {
   "cell_type": "markdown",
   "id": "54675f70",
   "metadata": {},
   "source": []
  },
  {
   "cell_type": "code",
   "execution_count": 1,
   "id": "5cf36255",
   "metadata": {
    "id": "5cf36255"
   },
   "outputs": [],
   "source": [
    "import pandas as pd\n",
    "import numpy as np\n",
    "import random\n",
    "import seaborn as sns\n",
    "from datetime import datetime, timedelta, time\n",
    "import re\n",
    "pd.options.mode.chained_assignment = None\n",
    "pd.set_option('display.max_columns', None)"
   ]
  },
  {
   "cell_type": "code",
   "execution_count": 2,
   "id": "891c485c",
   "metadata": {
    "colab": {
     "base_uri": "https://localhost:8080/",
     "height": 371
    },
    "id": "891c485c",
    "outputId": "ad828527-a503-4ccf-c34a-382b628817b9"
   },
   "outputs": [],
   "source": [
    "df = pd.read_csv('itineraries.csv', skiprows = lambda i: i > 0 and random.random() > 0.01)"
   ]
  },
  {
   "cell_type": "code",
   "execution_count": 3,
   "id": "55496059",
   "metadata": {},
   "outputs": [
    {
     "data": {
      "text/plain": [
       "821422"
      ]
     },
     "execution_count": 3,
     "metadata": {},
     "output_type": "execute_result"
    }
   ],
   "source": [
    "len(df)"
   ]
  },
  {
   "cell_type": "code",
   "execution_count": 4,
   "id": "abe2026c",
   "metadata": {},
   "outputs": [
    {
     "data": {
      "text/plain": [
       "(821422, 27)"
      ]
     },
     "execution_count": 4,
     "metadata": {},
     "output_type": "execute_result"
    }
   ],
   "source": [
    "df.shape"
   ]
  },
  {
   "cell_type": "markdown",
   "id": "8cb48e46",
   "metadata": {},
   "source": [
    "#### Original, uncleaned dataframe"
   ]
  },
  {
   "cell_type": "code",
   "execution_count": 5,
   "id": "2b3f1855",
   "metadata": {
    "scrolled": true
   },
   "outputs": [
    {
     "data": {
      "text/html": [
       "<div>\n",
       "<style scoped>\n",
       "    .dataframe tbody tr th:only-of-type {\n",
       "        vertical-align: middle;\n",
       "    }\n",
       "\n",
       "    .dataframe tbody tr th {\n",
       "        vertical-align: top;\n",
       "    }\n",
       "\n",
       "    .dataframe thead th {\n",
       "        text-align: right;\n",
       "    }\n",
       "</style>\n",
       "<table border=\"1\" class=\"dataframe\">\n",
       "  <thead>\n",
       "    <tr style=\"text-align: right;\">\n",
       "      <th></th>\n",
       "      <th>legId</th>\n",
       "      <th>searchDate</th>\n",
       "      <th>flightDate</th>\n",
       "      <th>startingAirport</th>\n",
       "      <th>destinationAirport</th>\n",
       "      <th>fareBasisCode</th>\n",
       "      <th>travelDuration</th>\n",
       "      <th>elapsedDays</th>\n",
       "      <th>isBasicEconomy</th>\n",
       "      <th>isRefundable</th>\n",
       "      <th>isNonStop</th>\n",
       "      <th>baseFare</th>\n",
       "      <th>totalFare</th>\n",
       "      <th>seatsRemaining</th>\n",
       "      <th>totalTravelDistance</th>\n",
       "      <th>segmentsDepartureTimeEpochSeconds</th>\n",
       "      <th>segmentsDepartureTimeRaw</th>\n",
       "      <th>segmentsArrivalTimeEpochSeconds</th>\n",
       "      <th>segmentsArrivalTimeRaw</th>\n",
       "      <th>segmentsArrivalAirportCode</th>\n",
       "      <th>segmentsDepartureAirportCode</th>\n",
       "      <th>segmentsAirlineName</th>\n",
       "      <th>segmentsAirlineCode</th>\n",
       "      <th>segmentsEquipmentDescription</th>\n",
       "      <th>segmentsDurationInSeconds</th>\n",
       "      <th>segmentsDistance</th>\n",
       "      <th>segmentsCabinCode</th>\n",
       "    </tr>\n",
       "  </thead>\n",
       "  <tbody>\n",
       "    <tr>\n",
       "      <th>0</th>\n",
       "      <td>948d26b3e5658762cd62f842c87ae46e</td>\n",
       "      <td>2022-04-16</td>\n",
       "      <td>2022-04-17</td>\n",
       "      <td>ATL</td>\n",
       "      <td>BOS</td>\n",
       "      <td>VAA0AKEN</td>\n",
       "      <td>PT8H10M</td>\n",
       "      <td>0</td>\n",
       "      <td>False</td>\n",
       "      <td>False</td>\n",
       "      <td>False</td>\n",
       "      <td>213.02</td>\n",
       "      <td>252.60</td>\n",
       "      <td>2</td>\n",
       "      <td>1462.0</td>\n",
       "      <td>1650190200||1650210960</td>\n",
       "      <td>2022-04-17T06:10:00.000-04:00||2022-04-17T10:5...</td>\n",
       "      <td>1650198000||1650219600</td>\n",
       "      <td>2022-04-17T07:20:00.000-05:00||2022-04-17T14:2...</td>\n",
       "      <td>ORD||BOS</td>\n",
       "      <td>ATL||ORD</td>\n",
       "      <td>United||United</td>\n",
       "      <td>UA||UA</td>\n",
       "      <td>Embraer 175 (Enhanced Winglets)||Boeing 737 MAX 9</td>\n",
       "      <td>7800||8640</td>\n",
       "      <td>600||862</td>\n",
       "      <td>coach||coach</td>\n",
       "    </tr>\n",
       "    <tr>\n",
       "      <th>1</th>\n",
       "      <td>5cfc831f1186378b62f262e7b2c92a54</td>\n",
       "      <td>2022-04-16</td>\n",
       "      <td>2022-04-17</td>\n",
       "      <td>ATL</td>\n",
       "      <td>IAD</td>\n",
       "      <td>EAA0OKEN</td>\n",
       "      <td>PT1H51M</td>\n",
       "      <td>0</td>\n",
       "      <td>False</td>\n",
       "      <td>False</td>\n",
       "      <td>True</td>\n",
       "      <td>338.60</td>\n",
       "      <td>378.60</td>\n",
       "      <td>1</td>\n",
       "      <td>541.0</td>\n",
       "      <td>1650216240</td>\n",
       "      <td>2022-04-17T13:24:00.000-04:00</td>\n",
       "      <td>1650222900</td>\n",
       "      <td>2022-04-17T15:15:00.000-04:00</td>\n",
       "      <td>IAD</td>\n",
       "      <td>ATL</td>\n",
       "      <td>United</td>\n",
       "      <td>UA</td>\n",
       "      <td>Embraer 175 (Enhanced Winglets)</td>\n",
       "      <td>6660</td>\n",
       "      <td>541</td>\n",
       "      <td>coach</td>\n",
       "    </tr>\n",
       "    <tr>\n",
       "      <th>2</th>\n",
       "      <td>3553d6aca390546c031abba5a166afa5</td>\n",
       "      <td>2022-04-16</td>\n",
       "      <td>2022-04-17</td>\n",
       "      <td>ATL</td>\n",
       "      <td>IAD</td>\n",
       "      <td>BA0OA0MQ</td>\n",
       "      <td>PT1H37M</td>\n",
       "      <td>1</td>\n",
       "      <td>False</td>\n",
       "      <td>False</td>\n",
       "      <td>True</td>\n",
       "      <td>450.23</td>\n",
       "      <td>498.60</td>\n",
       "      <td>8</td>\n",
       "      <td>541.0</td>\n",
       "      <td>1650250680</td>\n",
       "      <td>2022-04-17T22:58:00.000-04:00</td>\n",
       "      <td>1650256500</td>\n",
       "      <td>2022-04-18T00:35:00.000-04:00</td>\n",
       "      <td>IAD</td>\n",
       "      <td>ATL</td>\n",
       "      <td>Delta</td>\n",
       "      <td>DL</td>\n",
       "      <td>Airbus A319</td>\n",
       "      <td>5820</td>\n",
       "      <td>541</td>\n",
       "      <td>coach</td>\n",
       "    </tr>\n",
       "    <tr>\n",
       "      <th>3</th>\n",
       "      <td>c483f193f1c06b0ba26b83a38300e977</td>\n",
       "      <td>2022-04-16</td>\n",
       "      <td>2022-04-17</td>\n",
       "      <td>ATL</td>\n",
       "      <td>LAX</td>\n",
       "      <td>QAA0AFEN</td>\n",
       "      <td>PT9H23M</td>\n",
       "      <td>0</td>\n",
       "      <td>False</td>\n",
       "      <td>False</td>\n",
       "      <td>False</td>\n",
       "      <td>310.70</td>\n",
       "      <td>357.60</td>\n",
       "      <td>2</td>\n",
       "      <td>2055.0</td>\n",
       "      <td>1650200400||1650225300</td>\n",
       "      <td>2022-04-17T09:00:00.000-04:00||2022-04-17T13:5...</td>\n",
       "      <td>1650212460||1650234180</td>\n",
       "      <td>2022-04-17T10:21:00.000-06:00||2022-04-17T15:2...</td>\n",
       "      <td>DEN||LAX</td>\n",
       "      <td>ATL||DEN</td>\n",
       "      <td>United||United</td>\n",
       "      <td>UA||UA</td>\n",
       "      <td>Airbus A319||Boeing 737-900</td>\n",
       "      <td>12060||8880</td>\n",
       "      <td>1207||848</td>\n",
       "      <td>coach||coach</td>\n",
       "    </tr>\n",
       "    <tr>\n",
       "      <th>4</th>\n",
       "      <td>baf6404242b09b9b422a4f92eb0e3d73</td>\n",
       "      <td>2022-04-16</td>\n",
       "      <td>2022-04-17</td>\n",
       "      <td>ATL</td>\n",
       "      <td>LAX</td>\n",
       "      <td>HA0QA0MQ</td>\n",
       "      <td>PT7H6M</td>\n",
       "      <td>0</td>\n",
       "      <td>False</td>\n",
       "      <td>False</td>\n",
       "      <td>False</td>\n",
       "      <td>450.23</td>\n",
       "      <td>507.60</td>\n",
       "      <td>9</td>\n",
       "      <td>2161.0</td>\n",
       "      <td>1650238560||1650257940</td>\n",
       "      <td>2022-04-17T19:36:00.000-04:00||2022-04-17T22:5...</td>\n",
       "      <td>1650253440||1650264120</td>\n",
       "      <td>2022-04-17T21:44:00.000-06:00||2022-04-17T23:4...</td>\n",
       "      <td>SLC||ONT</td>\n",
       "      <td>ATL||SLC</td>\n",
       "      <td>Delta||Delta</td>\n",
       "      <td>DL||DL</td>\n",
       "      <td>Boeing 757||Boeing 737-800</td>\n",
       "      <td>14880||6180</td>\n",
       "      <td>1587||574</td>\n",
       "      <td>coach||coach</td>\n",
       "    </tr>\n",
       "    <tr>\n",
       "      <th>...</th>\n",
       "      <td>...</td>\n",
       "      <td>...</td>\n",
       "      <td>...</td>\n",
       "      <td>...</td>\n",
       "      <td>...</td>\n",
       "      <td>...</td>\n",
       "      <td>...</td>\n",
       "      <td>...</td>\n",
       "      <td>...</td>\n",
       "      <td>...</td>\n",
       "      <td>...</td>\n",
       "      <td>...</td>\n",
       "      <td>...</td>\n",
       "      <td>...</td>\n",
       "      <td>...</td>\n",
       "      <td>...</td>\n",
       "      <td>...</td>\n",
       "      <td>...</td>\n",
       "      <td>...</td>\n",
       "      <td>...</td>\n",
       "      <td>...</td>\n",
       "      <td>...</td>\n",
       "      <td>...</td>\n",
       "      <td>...</td>\n",
       "      <td>...</td>\n",
       "      <td>...</td>\n",
       "      <td>...</td>\n",
       "    </tr>\n",
       "    <tr>\n",
       "      <th>821417</th>\n",
       "      <td>4cdd9da730682ef2fa9b2f9db6b42f39</td>\n",
       "      <td>2022-10-05</td>\n",
       "      <td>2022-11-12</td>\n",
       "      <td>DFW</td>\n",
       "      <td>IAD</td>\n",
       "      <td>VAVNA0BG</td>\n",
       "      <td>PT7H51M</td>\n",
       "      <td>0</td>\n",
       "      <td>True</td>\n",
       "      <td>False</td>\n",
       "      <td>False</td>\n",
       "      <td>96.74</td>\n",
       "      <td>127.60</td>\n",
       "      <td>9</td>\n",
       "      <td>1605.0</td>\n",
       "      <td>1668259800||1668282900</td>\n",
       "      <td>2022-11-12T07:30:00.000-06:00||2022-11-12T14:5...</td>\n",
       "      <td>1668272400||1668288060</td>\n",
       "      <td>2022-11-12T12:00:00.000-05:00||2022-11-12T16:2...</td>\n",
       "      <td>JFK||IAD</td>\n",
       "      <td>DFW||JFK</td>\n",
       "      <td>Delta||Delta</td>\n",
       "      <td>DL||DL</td>\n",
       "      <td>Airbus A220-100||Embraer 175</td>\n",
       "      <td>12600||5160</td>\n",
       "      <td>1384||221</td>\n",
       "      <td>coach||coach</td>\n",
       "    </tr>\n",
       "    <tr>\n",
       "      <th>821418</th>\n",
       "      <td>96090da3c33983ea697eca86f99bd397</td>\n",
       "      <td>2022-10-05</td>\n",
       "      <td>2022-11-12</td>\n",
       "      <td>DFW</td>\n",
       "      <td>LAX</td>\n",
       "      <td>UA21NR</td>\n",
       "      <td>PT3H25M</td>\n",
       "      <td>0</td>\n",
       "      <td>False</td>\n",
       "      <td>False</td>\n",
       "      <td>True</td>\n",
       "      <td>12.00</td>\n",
       "      <td>68.59</td>\n",
       "      <td>0</td>\n",
       "      <td>NaN</td>\n",
       "      <td>1668293100</td>\n",
       "      <td>2022-11-12T16:45:00.000-06:00</td>\n",
       "      <td>1668305400</td>\n",
       "      <td>2022-11-12T18:10:00.000-08:00</td>\n",
       "      <td>LAX</td>\n",
       "      <td>DFW</td>\n",
       "      <td>Spirit Airlines</td>\n",
       "      <td>NK</td>\n",
       "      <td>AIRBUS INDUSTRIE A320 SHARKLETS</td>\n",
       "      <td>12300</td>\n",
       "      <td>None</td>\n",
       "      <td>coach</td>\n",
       "    </tr>\n",
       "    <tr>\n",
       "      <th>821419</th>\n",
       "      <td>5439decad0391882de5f998d99adef08</td>\n",
       "      <td>2022-10-05</td>\n",
       "      <td>2022-11-12</td>\n",
       "      <td>DFW</td>\n",
       "      <td>LAX</td>\n",
       "      <td>SUAIXSB3</td>\n",
       "      <td>PT6H5M</td>\n",
       "      <td>0</td>\n",
       "      <td>True</td>\n",
       "      <td>False</td>\n",
       "      <td>False</td>\n",
       "      <td>113.49</td>\n",
       "      <td>145.60</td>\n",
       "      <td>7</td>\n",
       "      <td>1419.0</td>\n",
       "      <td>1668297300||1668307140</td>\n",
       "      <td>2022-11-12T17:55:00.000-06:00||2022-11-12T20:3...</td>\n",
       "      <td>1668300960||1668319200</td>\n",
       "      <td>2022-11-12T18:56:00.000-06:00||2022-11-12T22:0...</td>\n",
       "      <td>AUS||LAX</td>\n",
       "      <td>DFW||AUS</td>\n",
       "      <td>American Airlines||American Airlines</td>\n",
       "      <td>AA||AA</td>\n",
       "      <td>Airbus A319||Boeing 737-800</td>\n",
       "      <td>3660||12060</td>\n",
       "      <td>183||1236</td>\n",
       "      <td>coach||coach</td>\n",
       "    </tr>\n",
       "    <tr>\n",
       "      <th>821420</th>\n",
       "      <td>e30989573a89169ed06d3ba8772c660c</td>\n",
       "      <td>2022-10-05</td>\n",
       "      <td>2022-11-12</td>\n",
       "      <td>DFW</td>\n",
       "      <td>LGA</td>\n",
       "      <td>N3AHZNB3</td>\n",
       "      <td>PT5H43M</td>\n",
       "      <td>0</td>\n",
       "      <td>True</td>\n",
       "      <td>False</td>\n",
       "      <td>False</td>\n",
       "      <td>124.65</td>\n",
       "      <td>157.60</td>\n",
       "      <td>7</td>\n",
       "      <td>1390.0</td>\n",
       "      <td>1668272520||1668285240</td>\n",
       "      <td>2022-11-12T11:02:00.000-06:00||2022-11-12T14:3...</td>\n",
       "      <td>1668279180||1668293100</td>\n",
       "      <td>2022-11-12T12:53:00.000-06:00||2022-11-12T17:4...</td>\n",
       "      <td>BNA||LGA</td>\n",
       "      <td>DFW||BNA</td>\n",
       "      <td>American Airlines||American Airlines</td>\n",
       "      <td>AA||AA</td>\n",
       "      <td>Airbus A321||Embraer 175</td>\n",
       "      <td>6660||7860</td>\n",
       "      <td>626||764</td>\n",
       "      <td>coach||coach</td>\n",
       "    </tr>\n",
       "    <tr>\n",
       "      <th>821421</th>\n",
       "      <td>0e8bb494afce099de0e3ec06389dcfb7</td>\n",
       "      <td>2022-10-05</td>\n",
       "      <td>2022-11-12</td>\n",
       "      <td>DFW</td>\n",
       "      <td>MIA</td>\n",
       "      <td>G0AHZNN1</td>\n",
       "      <td>PT9H9M</td>\n",
       "      <td>1</td>\n",
       "      <td>False</td>\n",
       "      <td>False</td>\n",
       "      <td>False</td>\n",
       "      <td>373.96</td>\n",
       "      <td>425.61</td>\n",
       "      <td>5</td>\n",
       "      <td>2366.0</td>\n",
       "      <td>1668309180||1668328380</td>\n",
       "      <td>2022-11-12T21:13:00.000-06:00||2022-11-13T01:3...</td>\n",
       "      <td>1668316620||1668342120</td>\n",
       "      <td>2022-11-12T22:17:00.000-07:00||2022-11-13T07:2...</td>\n",
       "      <td>DEN||MIA</td>\n",
       "      <td>DFW||DEN</td>\n",
       "      <td>American Airlines||American Airlines</td>\n",
       "      <td>AA||AA</td>\n",
       "      <td>Airbus A321||</td>\n",
       "      <td>7440||13740</td>\n",
       "      <td>650||1716</td>\n",
       "      <td>coach||coach</td>\n",
       "    </tr>\n",
       "  </tbody>\n",
       "</table>\n",
       "<p>821422 rows × 27 columns</p>\n",
       "</div>"
      ],
      "text/plain": [
       "                                   legId  searchDate  flightDate  \\\n",
       "0       948d26b3e5658762cd62f842c87ae46e  2022-04-16  2022-04-17   \n",
       "1       5cfc831f1186378b62f262e7b2c92a54  2022-04-16  2022-04-17   \n",
       "2       3553d6aca390546c031abba5a166afa5  2022-04-16  2022-04-17   \n",
       "3       c483f193f1c06b0ba26b83a38300e977  2022-04-16  2022-04-17   \n",
       "4       baf6404242b09b9b422a4f92eb0e3d73  2022-04-16  2022-04-17   \n",
       "...                                  ...         ...         ...   \n",
       "821417  4cdd9da730682ef2fa9b2f9db6b42f39  2022-10-05  2022-11-12   \n",
       "821418  96090da3c33983ea697eca86f99bd397  2022-10-05  2022-11-12   \n",
       "821419  5439decad0391882de5f998d99adef08  2022-10-05  2022-11-12   \n",
       "821420  e30989573a89169ed06d3ba8772c660c  2022-10-05  2022-11-12   \n",
       "821421  0e8bb494afce099de0e3ec06389dcfb7  2022-10-05  2022-11-12   \n",
       "\n",
       "       startingAirport destinationAirport fareBasisCode travelDuration  \\\n",
       "0                  ATL                BOS      VAA0AKEN        PT8H10M   \n",
       "1                  ATL                IAD      EAA0OKEN        PT1H51M   \n",
       "2                  ATL                IAD      BA0OA0MQ        PT1H37M   \n",
       "3                  ATL                LAX      QAA0AFEN        PT9H23M   \n",
       "4                  ATL                LAX      HA0QA0MQ         PT7H6M   \n",
       "...                ...                ...           ...            ...   \n",
       "821417             DFW                IAD      VAVNA0BG        PT7H51M   \n",
       "821418             DFW                LAX        UA21NR        PT3H25M   \n",
       "821419             DFW                LAX      SUAIXSB3         PT6H5M   \n",
       "821420             DFW                LGA      N3AHZNB3        PT5H43M   \n",
       "821421             DFW                MIA      G0AHZNN1         PT9H9M   \n",
       "\n",
       "        elapsedDays  isBasicEconomy  isRefundable  isNonStop  baseFare  \\\n",
       "0                 0           False         False      False    213.02   \n",
       "1                 0           False         False       True    338.60   \n",
       "2                 1           False         False       True    450.23   \n",
       "3                 0           False         False      False    310.70   \n",
       "4                 0           False         False      False    450.23   \n",
       "...             ...             ...           ...        ...       ...   \n",
       "821417            0            True         False      False     96.74   \n",
       "821418            0           False         False       True     12.00   \n",
       "821419            0            True         False      False    113.49   \n",
       "821420            0            True         False      False    124.65   \n",
       "821421            1           False         False      False    373.96   \n",
       "\n",
       "        totalFare  seatsRemaining  totalTravelDistance  \\\n",
       "0          252.60               2               1462.0   \n",
       "1          378.60               1                541.0   \n",
       "2          498.60               8                541.0   \n",
       "3          357.60               2               2055.0   \n",
       "4          507.60               9               2161.0   \n",
       "...           ...             ...                  ...   \n",
       "821417     127.60               9               1605.0   \n",
       "821418      68.59               0                  NaN   \n",
       "821419     145.60               7               1419.0   \n",
       "821420     157.60               7               1390.0   \n",
       "821421     425.61               5               2366.0   \n",
       "\n",
       "       segmentsDepartureTimeEpochSeconds  \\\n",
       "0                 1650190200||1650210960   \n",
       "1                             1650216240   \n",
       "2                             1650250680   \n",
       "3                 1650200400||1650225300   \n",
       "4                 1650238560||1650257940   \n",
       "...                                  ...   \n",
       "821417            1668259800||1668282900   \n",
       "821418                        1668293100   \n",
       "821419            1668297300||1668307140   \n",
       "821420            1668272520||1668285240   \n",
       "821421            1668309180||1668328380   \n",
       "\n",
       "                                 segmentsDepartureTimeRaw  \\\n",
       "0       2022-04-17T06:10:00.000-04:00||2022-04-17T10:5...   \n",
       "1                           2022-04-17T13:24:00.000-04:00   \n",
       "2                           2022-04-17T22:58:00.000-04:00   \n",
       "3       2022-04-17T09:00:00.000-04:00||2022-04-17T13:5...   \n",
       "4       2022-04-17T19:36:00.000-04:00||2022-04-17T22:5...   \n",
       "...                                                   ...   \n",
       "821417  2022-11-12T07:30:00.000-06:00||2022-11-12T14:5...   \n",
       "821418                      2022-11-12T16:45:00.000-06:00   \n",
       "821419  2022-11-12T17:55:00.000-06:00||2022-11-12T20:3...   \n",
       "821420  2022-11-12T11:02:00.000-06:00||2022-11-12T14:3...   \n",
       "821421  2022-11-12T21:13:00.000-06:00||2022-11-13T01:3...   \n",
       "\n",
       "       segmentsArrivalTimeEpochSeconds  \\\n",
       "0               1650198000||1650219600   \n",
       "1                           1650222900   \n",
       "2                           1650256500   \n",
       "3               1650212460||1650234180   \n",
       "4               1650253440||1650264120   \n",
       "...                                ...   \n",
       "821417          1668272400||1668288060   \n",
       "821418                      1668305400   \n",
       "821419          1668300960||1668319200   \n",
       "821420          1668279180||1668293100   \n",
       "821421          1668316620||1668342120   \n",
       "\n",
       "                                   segmentsArrivalTimeRaw  \\\n",
       "0       2022-04-17T07:20:00.000-05:00||2022-04-17T14:2...   \n",
       "1                           2022-04-17T15:15:00.000-04:00   \n",
       "2                           2022-04-18T00:35:00.000-04:00   \n",
       "3       2022-04-17T10:21:00.000-06:00||2022-04-17T15:2...   \n",
       "4       2022-04-17T21:44:00.000-06:00||2022-04-17T23:4...   \n",
       "...                                                   ...   \n",
       "821417  2022-11-12T12:00:00.000-05:00||2022-11-12T16:2...   \n",
       "821418                      2022-11-12T18:10:00.000-08:00   \n",
       "821419  2022-11-12T18:56:00.000-06:00||2022-11-12T22:0...   \n",
       "821420  2022-11-12T12:53:00.000-06:00||2022-11-12T17:4...   \n",
       "821421  2022-11-12T22:17:00.000-07:00||2022-11-13T07:2...   \n",
       "\n",
       "       segmentsArrivalAirportCode segmentsDepartureAirportCode  \\\n",
       "0                        ORD||BOS                     ATL||ORD   \n",
       "1                             IAD                          ATL   \n",
       "2                             IAD                          ATL   \n",
       "3                        DEN||LAX                     ATL||DEN   \n",
       "4                        SLC||ONT                     ATL||SLC   \n",
       "...                           ...                          ...   \n",
       "821417                   JFK||IAD                     DFW||JFK   \n",
       "821418                        LAX                          DFW   \n",
       "821419                   AUS||LAX                     DFW||AUS   \n",
       "821420                   BNA||LGA                     DFW||BNA   \n",
       "821421                   DEN||MIA                     DFW||DEN   \n",
       "\n",
       "                         segmentsAirlineName segmentsAirlineCode  \\\n",
       "0                             United||United              UA||UA   \n",
       "1                                     United                  UA   \n",
       "2                                      Delta                  DL   \n",
       "3                             United||United              UA||UA   \n",
       "4                               Delta||Delta              DL||DL   \n",
       "...                                      ...                 ...   \n",
       "821417                          Delta||Delta              DL||DL   \n",
       "821418                       Spirit Airlines                  NK   \n",
       "821419  American Airlines||American Airlines              AA||AA   \n",
       "821420  American Airlines||American Airlines              AA||AA   \n",
       "821421  American Airlines||American Airlines              AA||AA   \n",
       "\n",
       "                             segmentsEquipmentDescription  \\\n",
       "0       Embraer 175 (Enhanced Winglets)||Boeing 737 MAX 9   \n",
       "1                         Embraer 175 (Enhanced Winglets)   \n",
       "2                                             Airbus A319   \n",
       "3                             Airbus A319||Boeing 737-900   \n",
       "4                              Boeing 757||Boeing 737-800   \n",
       "...                                                   ...   \n",
       "821417                       Airbus A220-100||Embraer 175   \n",
       "821418                    AIRBUS INDUSTRIE A320 SHARKLETS   \n",
       "821419                        Airbus A319||Boeing 737-800   \n",
       "821420                           Airbus A321||Embraer 175   \n",
       "821421                                      Airbus A321||   \n",
       "\n",
       "       segmentsDurationInSeconds segmentsDistance segmentsCabinCode  \n",
       "0                     7800||8640         600||862      coach||coach  \n",
       "1                           6660              541             coach  \n",
       "2                           5820              541             coach  \n",
       "3                    12060||8880        1207||848      coach||coach  \n",
       "4                    14880||6180        1587||574      coach||coach  \n",
       "...                          ...              ...               ...  \n",
       "821417               12600||5160        1384||221      coach||coach  \n",
       "821418                     12300             None             coach  \n",
       "821419               3660||12060        183||1236      coach||coach  \n",
       "821420                6660||7860         626||764      coach||coach  \n",
       "821421               7440||13740        650||1716      coach||coach  \n",
       "\n",
       "[821422 rows x 27 columns]"
      ]
     },
     "execution_count": 5,
     "metadata": {},
     "output_type": "execute_result"
    }
   ],
   "source": [
    "df"
   ]
  },
  {
   "cell_type": "markdown",
   "id": "14af19b2",
   "metadata": {},
   "source": [
    "## Data Cleaning and Preparation"
   ]
  },
  {
   "cell_type": "markdown",
   "id": "c018eb15",
   "metadata": {},
   "source": [
    "#### To decrease variance and maintain consistency in our analysis, we choose to analyze trips that have one layover. Thus, our first step is to delete rows that contain zero or more than one layover."
   ]
  },
  {
   "cell_type": "markdown",
   "id": "a5dcb288",
   "metadata": {},
   "source": [
    "#### Trips with one layover have a length of 8 in the <i>segmentsArrivalAirportCode</i> column. For example, a trip from New York to Los Angeles through Dallas would have the structire <i>DFW||LAX</i>."
   ]
  },
  {
   "cell_type": "code",
   "execution_count": 6,
   "id": "f1ad4a8e",
   "metadata": {},
   "outputs": [],
   "source": [
    "df['Multiple Layovers'] = df['segmentsArrivalAirportCode'].apply(lambda x: True if (len(x) > 8) else False)\n",
    "df['Zero Layovers'] = df['segmentsArrivalAirportCode'].apply(lambda x: True if (len(x) < 8) else False)"
   ]
  },
  {
   "cell_type": "code",
   "execution_count": 7,
   "id": "5e350c0c",
   "metadata": {},
   "outputs": [],
   "source": [
    "df = df[(df['Multiple Layovers'] == False) & (df['Zero Layovers'] == False)]"
   ]
  },
  {
   "cell_type": "markdown",
   "id": "874e0f63",
   "metadata": {},
   "source": [
    "#### The <i>travelDuration</i> column is in ISO 8601 Duration format. To more easily utilize this column, we create a new column, <i>traveltime</i>, using the <i>pd.to_timedelta</i> command. Then, we create a <i>travelminutes</i> column to show the total minutes of each trip."
   ]
  },
  {
   "cell_type": "code",
   "execution_count": 8,
   "id": "33ee1ace",
   "metadata": {},
   "outputs": [],
   "source": [
    "df['traveltime'] = pd.to_timedelta(df['travelDuration'])"
   ]
  },
  {
   "cell_type": "code",
   "execution_count": 9,
   "id": "0abfdd8d",
   "metadata": {},
   "outputs": [],
   "source": [
    "df['travelminutes'] = (df['traveltime'].dt.total_seconds() / 60)"
   ]
  },
  {
   "cell_type": "markdown",
   "id": "f1a98d9d",
   "metadata": {},
   "source": [
    "#### The dataframe separates each leg of a trip with \"||\" in columns with data for each leg. We split these columns to store data from each leg of the trip in separate columns."
   ]
  },
  {
   "cell_type": "code",
   "execution_count": 10,
   "id": "139d4620",
   "metadata": {
    "id": "139d4620"
   },
   "outputs": [],
   "source": [
    "df[['segment1min', 'segment2min']] = df['segmentsDurationInSeconds'].str.split('|', 1, expand = True)\n",
    "df[['segment1distance', 'segment2distance']] = df['segmentsDistance'].str.split('|', 1, expand = True)\n",
    "df[['segment1CabinCode', 'segment2CabinCode']] = df['segmentsCabinCode'].str.split('|', 1, expand = True)\n",
    "df[['segment1EquipmentDescription', 'segment2EquipmentDescription']] = df['segmentsEquipmentDescription'].str.split('|', 1, expand = True)\n",
    "df[['segment1AirlineName', 'segment2AirlineName']] = df['segmentsAirlineName'].str.split('|', 1, expand = True)\n",
    "df[['segment1DepartureTime', 'segment2DepartureTime']] = df['segmentsDepartureTimeRaw'].str.split('|', 1, expand = True)\n",
    "df[['segment1ArrivalTime', 'segment2ArrivalTime']] = df['segmentsArrivalTimeRaw'].str.split('|', 1, expand = True)"
   ]
  },
  {
   "cell_type": "code",
   "execution_count": 11,
   "id": "766bc296",
   "metadata": {
    "id": "766bc296"
   },
   "outputs": [],
   "source": [
    "df['segment2min'] = df['segment2min'].str.replace('|', '', regex = False)\n",
    "df['segment2distance'] = df['segment2distance'].str.replace('|', '', regex = False)\n",
    "df['segment2CabinCode'] = df['segment2CabinCode'].str.replace('|', '', regex = False)\n",
    "df['segment2EquipmentDescription'] = df['segment2EquipmentDescription'].str.replace('|', '', regex = False)\n",
    "df['segment2AirlineName'] = df['segment2AirlineName'].str.replace('|', '', regex = False)\n",
    "df['segment1DepartureTime'] = df['segment1DepartureTime'].replace('|', '', regex = False)\n",
    "df['segment2DepartureTime'] = df['segment2DepartureTime'].str.replace('|', '', regex = False)\n",
    "df['segment1ArrivalTime'] = df['segment1ArrivalTime'].replace('|', '', regex = False)\n",
    "df['segment2ArrivalTime'] = df['segment2ArrivalTime'].str.replace('|', '', regex = False)"
   ]
  },
  {
   "cell_type": "markdown",
   "id": "9e683d1d",
   "metadata": {},
   "source": [
    "#### The original dataframe <i>segmentsDurationInSeconds</i> column is better shown in minutes. We convert the <i>segment1min</i> and <i>segment2min</i> columns to minutes by dividing by 60."
   ]
  },
  {
   "cell_type": "code",
   "execution_count": 12,
   "id": "81d0f240",
   "metadata": {},
   "outputs": [],
   "source": [
    "df['segment1min'] = pd.to_numeric(df['segment1min'])/60\n",
    "df['segment2min'] = pd.to_numeric(df['segment2min'])/60"
   ]
  },
  {
   "cell_type": "markdown",
   "id": "ffe6aa45",
   "metadata": {},
   "source": [
    "#### The <i>Departure Time</i> and <i>Arrival Time</i> columns are more readable in datetime format."
   ]
  },
  {
   "cell_type": "code",
   "execution_count": 13,
   "id": "ab4fcdbd",
   "metadata": {
    "id": "ab4fcdbd",
    "outputId": "a0eafdfb-b442-4293-aa96-1042166156af",
    "scrolled": true
   },
   "outputs": [],
   "source": [
    "df['segment1DepartureTime'] = pd.to_datetime(df['segment1DepartureTime'])\n",
    "df['segment2DepartureTime'] = pd.to_datetime(df['segment2DepartureTime'])\n",
    "df['segment1ArrivalTime'] = pd.to_datetime(df['segment1ArrivalTime'])\n",
    "df['segment2ArrivalTime'] = pd.to_datetime(df['segment2ArrivalTime'])"
   ]
  },
  {
   "cell_type": "markdown",
   "id": "93ab0f14",
   "metadata": {},
   "source": [
    "#### Departure date is shown in the <i>flightDate</i> column. We extract the departure time from the <i>datetime</i> string using lambda functions."
   ]
  },
  {
   "cell_type": "code",
   "execution_count": 14,
   "id": "116c626b",
   "metadata": {},
   "outputs": [],
   "source": [
    "df['segment1DepartureTime'] = df['segment1DepartureTime'].apply(lambda x: x.time() if x != None else None)\n",
    "df['segment2DepartureTime'] = df['segment2DepartureTime'].apply(lambda x: x.time() if x != None else None)"
   ]
  },
  {
   "cell_type": "code",
   "execution_count": 15,
   "id": "6c63c30c",
   "metadata": {},
   "outputs": [],
   "source": [
    "df['segment1ArrivalTime'] = df['segment1ArrivalTime'].apply(lambda x: x.time() if x != None else None)\n",
    "df['segment2ArrivalTime'] = df['segment2ArrivalTime'].apply(lambda x: x.time() if x != None else None)"
   ]
  },
  {
   "cell_type": "markdown",
   "id": "f1223ef1",
   "metadata": {},
   "source": [
    "#### We create a new column <i>layoverairport</i> by extracting the first <i>Arrival Airport</i> from the <i>segmentsArrivalAirportCode</i> column."
   ]
  },
  {
   "cell_type": "code",
   "execution_count": 16,
   "id": "0fb2bbbb",
   "metadata": {},
   "outputs": [],
   "source": [
    "df['layoverairport'] = df['segmentsArrivalAirportCode'].str.split('|').apply(lambda x: x[0])"
   ]
  },
  {
   "cell_type": "markdown",
   "id": "b95f0ba3",
   "metadata": {},
   "source": [
    "#### We create a new column <i>layoverduration</i> by finding the travel time not spent on a distinct leg of the trip."
   ]
  },
  {
   "cell_type": "code",
   "execution_count": 17,
   "id": "bdc8545e",
   "metadata": {},
   "outputs": [],
   "source": [
    "df['layoverduration'] = df['travelminutes'] - df['segment2min'] - df['segment1min']"
   ]
  },
  {
   "cell_type": "markdown",
   "id": "0464e9d8",
   "metadata": {},
   "source": [
    "#### We create new columns <i>price/mile</i> and <i>TotalFees</i>."
   ]
  },
  {
   "cell_type": "code",
   "execution_count": 18,
   "id": "f7aa95e6",
   "metadata": {},
   "outputs": [],
   "source": [
    "df['price/mile'] = df.totalFare / df.totalTravelDistance\n",
    "df['TotalFees'] = df.totalFare - df.baseFare"
   ]
  },
  {
   "cell_type": "markdown",
   "id": "f27fc3cc",
   "metadata": {},
   "source": [
    "#### We convert the columns <i>flightDate</i> and <i>searchDate</i> to <i>datetime</i> format and extract the day of the week into new columns that will be relevant to our analysis. Monday=0, Sunday=6."
   ]
  },
  {
   "cell_type": "code",
   "execution_count": 19,
   "id": "6803cc37",
   "metadata": {},
   "outputs": [],
   "source": [
    "df['flightDate'] = pd.to_datetime(df['flightDate'])\n",
    "df['searchDate'] = pd.to_datetime(df['searchDate'])\n",
    "df['FlightDayofWeek'] = df.flightDate.dt.dayofweek\n",
    "df['SearchDayofWeek'] = df.searchDate.dt.dayofweek"
   ]
  },
  {
   "cell_type": "markdown",
   "id": "21da184f",
   "metadata": {},
   "source": [
    "#### The <i>segment2CabinCode</i> entries became attached to cabin codes in the third segment for those segments with three cabin codes. This happened because we only allowed one \"split\" when previously splitting columns. We correct for this by replacing the jumbled values with the first element of the value."
   ]
  },
  {
   "cell_type": "code",
   "execution_count": 20,
   "id": "bcc828c8",
   "metadata": {
    "scrolled": true
   },
   "outputs": [
    {
     "data": {
      "text/plain": [
       "array(['coach', 'first', 'premium coach', 'business'], dtype=object)"
      ]
     },
     "execution_count": 20,
     "metadata": {},
     "output_type": "execute_result"
    }
   ],
   "source": [
    "df.segment2CabinCode.unique()"
   ]
  },
  {
   "cell_type": "code",
   "execution_count": 21,
   "id": "77ab6803",
   "metadata": {},
   "outputs": [],
   "source": [
    "df['segment2CabinCode'] = df['segment2CabinCode'].str.replace('coachcoach', 'coach', regex = True)\n",
    "df['segment2CabinCode'] = df['segment2CabinCode'].str.replace('firstfirst', 'first', regex = True)\n",
    "df['segment2CabinCode'] = df['segment2CabinCode'].str.replace('coachfirst', 'coach', regex = True)\n",
    "df['segment2CabinCode'] = df['segment2CabinCode'].str.replace('coachcoachcoach', 'coach', regex = True)\n",
    "df['segment2CabinCode'] = df['segment2CabinCode'].str.replace('premium coachcoach', 'premium coach', regex = True)\n",
    "df['segment2CabinCode'] = df['segment2CabinCode'].str.replace('coachpremium coach', 'coach', regex = True)"
   ]
  },
  {
   "cell_type": "code",
   "execution_count": 22,
   "id": "47b9e33c",
   "metadata": {},
   "outputs": [
    {
     "data": {
      "text/plain": [
       "array(['coach', 'first', 'premium coach', 'business'], dtype=object)"
      ]
     },
     "execution_count": 22,
     "metadata": {},
     "output_type": "execute_result"
    }
   ],
   "source": [
    "df.segment2CabinCode.unique()"
   ]
  },
  {
   "cell_type": "code",
   "execution_count": 23,
   "id": "ff1a1e6c",
   "metadata": {},
   "outputs": [
    {
     "data": {
      "text/plain": [
       "Index(['legId', 'searchDate', 'flightDate', 'startingAirport',\n",
       "       'destinationAirport', 'fareBasisCode', 'travelDuration', 'elapsedDays',\n",
       "       'isBasicEconomy', 'isRefundable', 'isNonStop', 'baseFare', 'totalFare',\n",
       "       'seatsRemaining', 'totalTravelDistance',\n",
       "       'segmentsDepartureTimeEpochSeconds', 'segmentsDepartureTimeRaw',\n",
       "       'segmentsArrivalTimeEpochSeconds', 'segmentsArrivalTimeRaw',\n",
       "       'segmentsArrivalAirportCode', 'segmentsDepartureAirportCode',\n",
       "       'segmentsAirlineName', 'segmentsAirlineCode',\n",
       "       'segmentsEquipmentDescription', 'segmentsDurationInSeconds',\n",
       "       'segmentsDistance', 'segmentsCabinCode', 'Multiple Layovers',\n",
       "       'Zero Layovers', 'traveltime', 'travelminutes', 'segment1min',\n",
       "       'segment2min', 'segment1distance', 'segment2distance',\n",
       "       'segment1CabinCode', 'segment2CabinCode',\n",
       "       'segment1EquipmentDescription', 'segment2EquipmentDescription',\n",
       "       'segment1AirlineName', 'segment2AirlineName', 'segment1DepartureTime',\n",
       "       'segment2DepartureTime', 'segment1ArrivalTime', 'segment2ArrivalTime',\n",
       "       'layoverairport', 'layoverduration', 'price/mile', 'TotalFees',\n",
       "       'FlightDayofWeek', 'SearchDayofWeek'],\n",
       "      dtype='object')"
      ]
     },
     "execution_count": 23,
     "metadata": {},
     "output_type": "execute_result"
    }
   ],
   "source": [
    "df.columns"
   ]
  },
  {
   "cell_type": "markdown",
   "id": "5702200c",
   "metadata": {},
   "source": [
    "#### As we prepare to analyze the data, we drop columns that were used to generate other columns and columns that are not relevant to our findings."
   ]
  },
  {
   "cell_type": "code",
   "execution_count": 24,
   "id": "58b38f24",
   "metadata": {},
   "outputs": [],
   "source": [
    "df.drop(columns = ['fareBasisCode', 'travelDuration', 'elapsedDays', 'isRefundable', 'segmentsArrivalAirportCode', \\\n",
    "       'seatsRemaining', 'segmentsDepartureTimeEpochSeconds', 'segmentsArrivalTimeEpochSeconds', \\\n",
    "       'segmentsDepartureAirportCode', 'segmentsAirlineCode', 'segmentsEquipmentDescription', \\\n",
    "       'segmentsCabinCode', 'segmentsDistance', 'segmentsDurationInSeconds', 'segmentsAirlineName', \\\n",
    "       'segmentsDepartureTimeRaw', 'segmentsArrivalTimeRaw', 'legId', 'traveltime', 'isNonStop', \\\n",
    "       'Zero Layovers', 'Multiple Layovers'], inplace = True)"
   ]
  },
  {
   "cell_type": "markdown",
   "id": "9823655f",
   "metadata": {},
   "source": [
    "#### We reorder the columns in an intuituve way that places the most utilized columns on the left."
   ]
  },
  {
   "cell_type": "code",
   "execution_count": 25,
   "id": "ad718663",
   "metadata": {},
   "outputs": [],
   "source": [
    "df = df[['searchDate', 'SearchDayofWeek', 'flightDate', 'FlightDayofWeek', 'startingAirport',\\\n",
    "         'layoverairport', 'destinationAirport', 'baseFare', 'totalFare',\n",
    "         'totalTravelDistance', 'segment1distance', 'segment2distance', 'travelminutes', 'segment1min',\\\n",
    "         'segment2min', 'segment1AirlineName', 'segment2AirlineName', 'segment1DepartureTime', 'segment1ArrivalTime',\\\n",
    "         'segment2DepartureTime', 'segment2ArrivalTime', 'layoverduration', 'segment1CabinCode',\\\n",
    "         'segment2CabinCode', 'segment1EquipmentDescription', 'segment2EquipmentDescription', 'isBasicEconomy']]"
   ]
  },
  {
   "cell_type": "markdown",
   "id": "a9856dc6",
   "metadata": {},
   "source": [
    "#### Final, cleaned dataframe"
   ]
  },
  {
   "cell_type": "code",
   "execution_count": 26,
   "id": "adc5d167",
   "metadata": {
    "scrolled": false
   },
   "outputs": [
    {
     "data": {
      "text/html": [
       "<div>\n",
       "<style scoped>\n",
       "    .dataframe tbody tr th:only-of-type {\n",
       "        vertical-align: middle;\n",
       "    }\n",
       "\n",
       "    .dataframe tbody tr th {\n",
       "        vertical-align: top;\n",
       "    }\n",
       "\n",
       "    .dataframe thead th {\n",
       "        text-align: right;\n",
       "    }\n",
       "</style>\n",
       "<table border=\"1\" class=\"dataframe\">\n",
       "  <thead>\n",
       "    <tr style=\"text-align: right;\">\n",
       "      <th></th>\n",
       "      <th>searchDate</th>\n",
       "      <th>SearchDayofWeek</th>\n",
       "      <th>flightDate</th>\n",
       "      <th>FlightDayofWeek</th>\n",
       "      <th>startingAirport</th>\n",
       "      <th>layoverairport</th>\n",
       "      <th>destinationAirport</th>\n",
       "      <th>baseFare</th>\n",
       "      <th>totalFare</th>\n",
       "      <th>totalTravelDistance</th>\n",
       "      <th>segment1distance</th>\n",
       "      <th>segment2distance</th>\n",
       "      <th>travelminutes</th>\n",
       "      <th>segment1min</th>\n",
       "      <th>segment2min</th>\n",
       "      <th>segment1AirlineName</th>\n",
       "      <th>segment2AirlineName</th>\n",
       "      <th>segment1DepartureTime</th>\n",
       "      <th>segment1ArrivalTime</th>\n",
       "      <th>segment2DepartureTime</th>\n",
       "      <th>segment2ArrivalTime</th>\n",
       "      <th>layoverduration</th>\n",
       "      <th>segment1CabinCode</th>\n",
       "      <th>segment2CabinCode</th>\n",
       "      <th>segment1EquipmentDescription</th>\n",
       "      <th>segment2EquipmentDescription</th>\n",
       "      <th>isBasicEconomy</th>\n",
       "    </tr>\n",
       "  </thead>\n",
       "  <tbody>\n",
       "    <tr>\n",
       "      <th>0</th>\n",
       "      <td>2022-04-16</td>\n",
       "      <td>5</td>\n",
       "      <td>2022-04-17</td>\n",
       "      <td>6</td>\n",
       "      <td>ATL</td>\n",
       "      <td>ORD</td>\n",
       "      <td>BOS</td>\n",
       "      <td>213.02</td>\n",
       "      <td>252.6</td>\n",
       "      <td>1462.0</td>\n",
       "      <td>600</td>\n",
       "      <td>862</td>\n",
       "      <td>490.0</td>\n",
       "      <td>130.0</td>\n",
       "      <td>144.0</td>\n",
       "      <td>United</td>\n",
       "      <td>United</td>\n",
       "      <td>06:10:00</td>\n",
       "      <td>07:20:00</td>\n",
       "      <td>10:56:00</td>\n",
       "      <td>14:20:00</td>\n",
       "      <td>216.0</td>\n",
       "      <td>coach</td>\n",
       "      <td>coach</td>\n",
       "      <td>Embraer 175 (Enhanced Winglets)</td>\n",
       "      <td>Boeing 737 MAX 9</td>\n",
       "      <td>False</td>\n",
       "    </tr>\n",
       "    <tr>\n",
       "      <th>3</th>\n",
       "      <td>2022-04-16</td>\n",
       "      <td>5</td>\n",
       "      <td>2022-04-17</td>\n",
       "      <td>6</td>\n",
       "      <td>ATL</td>\n",
       "      <td>DEN</td>\n",
       "      <td>LAX</td>\n",
       "      <td>310.70</td>\n",
       "      <td>357.6</td>\n",
       "      <td>2055.0</td>\n",
       "      <td>1207</td>\n",
       "      <td>848</td>\n",
       "      <td>563.0</td>\n",
       "      <td>201.0</td>\n",
       "      <td>148.0</td>\n",
       "      <td>United</td>\n",
       "      <td>United</td>\n",
       "      <td>09:00:00</td>\n",
       "      <td>10:21:00</td>\n",
       "      <td>13:55:00</td>\n",
       "      <td>15:23:00</td>\n",
       "      <td>214.0</td>\n",
       "      <td>coach</td>\n",
       "      <td>coach</td>\n",
       "      <td>Airbus A319</td>\n",
       "      <td>Boeing 737-900</td>\n",
       "      <td>False</td>\n",
       "    </tr>\n",
       "    <tr>\n",
       "      <th>4</th>\n",
       "      <td>2022-04-16</td>\n",
       "      <td>5</td>\n",
       "      <td>2022-04-17</td>\n",
       "      <td>6</td>\n",
       "      <td>ATL</td>\n",
       "      <td>SLC</td>\n",
       "      <td>LAX</td>\n",
       "      <td>450.23</td>\n",
       "      <td>507.6</td>\n",
       "      <td>2161.0</td>\n",
       "      <td>1587</td>\n",
       "      <td>574</td>\n",
       "      <td>426.0</td>\n",
       "      <td>248.0</td>\n",
       "      <td>103.0</td>\n",
       "      <td>Delta</td>\n",
       "      <td>Delta</td>\n",
       "      <td>19:36:00</td>\n",
       "      <td>21:44:00</td>\n",
       "      <td>22:59:00</td>\n",
       "      <td>23:42:00</td>\n",
       "      <td>75.0</td>\n",
       "      <td>coach</td>\n",
       "      <td>coach</td>\n",
       "      <td>Boeing 757</td>\n",
       "      <td>Boeing 737-800</td>\n",
       "      <td>False</td>\n",
       "    </tr>\n",
       "    <tr>\n",
       "      <th>6</th>\n",
       "      <td>2022-04-16</td>\n",
       "      <td>5</td>\n",
       "      <td>2022-04-17</td>\n",
       "      <td>6</td>\n",
       "      <td>ATL</td>\n",
       "      <td>DFW</td>\n",
       "      <td>LGA</td>\n",
       "      <td>171.16</td>\n",
       "      <td>207.6</td>\n",
       "      <td>2105.0</td>\n",
       "      <td>725</td>\n",
       "      <td>1380</td>\n",
       "      <td>414.0</td>\n",
       "      <td>143.0</td>\n",
       "      <td>205.0</td>\n",
       "      <td>American Airlines</td>\n",
       "      <td>American Airlines</td>\n",
       "      <td>06:05:00</td>\n",
       "      <td>07:28:00</td>\n",
       "      <td>08:34:00</td>\n",
       "      <td>12:59:00</td>\n",
       "      <td>66.0</td>\n",
       "      <td>coach</td>\n",
       "      <td>coach</td>\n",
       "      <td>Airbus A321</td>\n",
       "      <td>Boeing 737-800</td>\n",
       "      <td>False</td>\n",
       "    </tr>\n",
       "    <tr>\n",
       "      <th>7</th>\n",
       "      <td>2022-04-16</td>\n",
       "      <td>5</td>\n",
       "      <td>2022-04-17</td>\n",
       "      <td>6</td>\n",
       "      <td>ATL</td>\n",
       "      <td>LGA</td>\n",
       "      <td>ORD</td>\n",
       "      <td>117.21</td>\n",
       "      <td>149.6</td>\n",
       "      <td>1482.0</td>\n",
       "      <td>762</td>\n",
       "      <td>720</td>\n",
       "      <td>515.0</td>\n",
       "      <td>139.0</td>\n",
       "      <td>165.0</td>\n",
       "      <td>American Airlines</td>\n",
       "      <td>American Airlines</td>\n",
       "      <td>10:40:00</td>\n",
       "      <td>12:59:00</td>\n",
       "      <td>16:30:00</td>\n",
       "      <td>18:15:00</td>\n",
       "      <td>211.0</td>\n",
       "      <td>coach</td>\n",
       "      <td>coach</td>\n",
       "      <td>Embraer 175</td>\n",
       "      <td>Boeing 737-800</td>\n",
       "      <td>False</td>\n",
       "    </tr>\n",
       "  </tbody>\n",
       "</table>\n",
       "</div>"
      ],
      "text/plain": [
       "  searchDate  SearchDayofWeek flightDate  FlightDayofWeek startingAirport  \\\n",
       "0 2022-04-16                5 2022-04-17                6             ATL   \n",
       "3 2022-04-16                5 2022-04-17                6             ATL   \n",
       "4 2022-04-16                5 2022-04-17                6             ATL   \n",
       "6 2022-04-16                5 2022-04-17                6             ATL   \n",
       "7 2022-04-16                5 2022-04-17                6             ATL   \n",
       "\n",
       "  layoverairport destinationAirport  baseFare  totalFare  totalTravelDistance  \\\n",
       "0            ORD                BOS    213.02      252.6               1462.0   \n",
       "3            DEN                LAX    310.70      357.6               2055.0   \n",
       "4            SLC                LAX    450.23      507.6               2161.0   \n",
       "6            DFW                LGA    171.16      207.6               2105.0   \n",
       "7            LGA                ORD    117.21      149.6               1482.0   \n",
       "\n",
       "  segment1distance segment2distance  travelminutes  segment1min  segment2min  \\\n",
       "0              600              862          490.0        130.0        144.0   \n",
       "3             1207              848          563.0        201.0        148.0   \n",
       "4             1587              574          426.0        248.0        103.0   \n",
       "6              725             1380          414.0        143.0        205.0   \n",
       "7              762              720          515.0        139.0        165.0   \n",
       "\n",
       "  segment1AirlineName segment2AirlineName segment1DepartureTime  \\\n",
       "0              United              United              06:10:00   \n",
       "3              United              United              09:00:00   \n",
       "4               Delta               Delta              19:36:00   \n",
       "6   American Airlines   American Airlines              06:05:00   \n",
       "7   American Airlines   American Airlines              10:40:00   \n",
       "\n",
       "  segment1ArrivalTime segment2DepartureTime segment2ArrivalTime  \\\n",
       "0            07:20:00              10:56:00            14:20:00   \n",
       "3            10:21:00              13:55:00            15:23:00   \n",
       "4            21:44:00              22:59:00            23:42:00   \n",
       "6            07:28:00              08:34:00            12:59:00   \n",
       "7            12:59:00              16:30:00            18:15:00   \n",
       "\n",
       "   layoverduration segment1CabinCode segment2CabinCode  \\\n",
       "0            216.0             coach             coach   \n",
       "3            214.0             coach             coach   \n",
       "4             75.0             coach             coach   \n",
       "6             66.0             coach             coach   \n",
       "7            211.0             coach             coach   \n",
       "\n",
       "      segment1EquipmentDescription segment2EquipmentDescription  \\\n",
       "0  Embraer 175 (Enhanced Winglets)             Boeing 737 MAX 9   \n",
       "3                      Airbus A319               Boeing 737-900   \n",
       "4                       Boeing 757               Boeing 737-800   \n",
       "6                      Airbus A321               Boeing 737-800   \n",
       "7                      Embraer 175               Boeing 737-800   \n",
       "\n",
       "   isBasicEconomy  \n",
       "0           False  \n",
       "3           False  \n",
       "4           False  \n",
       "6           False  \n",
       "7           False  "
      ]
     },
     "execution_count": 26,
     "metadata": {},
     "output_type": "execute_result"
    }
   ],
   "source": [
    "df.head()"
   ]
  },
  {
   "cell_type": "markdown",
   "id": "b2226f4d",
   "metadata": {},
   "source": [
    "## Analysis and Findings"
   ]
  },
  {
   "cell_type": "markdown",
   "id": "3cd24d1e",
   "metadata": {},
   "source": [
    "## Finding 1: Maching Learning\n",
    "#### Summary of Finding"
   ]
  },
  {
   "cell_type": "markdown",
   "id": "33d0d880",
   "metadata": {},
   "source": [
    " Linear regression analysis predicts that the cabin code (i.e. coach, business, first, etc.) is the top predictor of total price (<i>totalFare</i> column) of a trip."
   ]
  },
  {
   "cell_type": "code",
   "execution_count": 27,
   "id": "407b9ca6",
   "metadata": {},
   "outputs": [],
   "source": [
    "import statsmodels.api as sm\n",
    "import statsmodels.formula.api as smf"
   ]
  },
  {
   "cell_type": "markdown",
   "id": "20ead0c7",
   "metadata": {},
   "source": [
    "#### Create <i>test_df</i>, a copy of the original dataframe to manipulate for this analysis."
   ]
  },
  {
   "cell_type": "code",
   "execution_count": 28,
   "id": "54fbef05",
   "metadata": {},
   "outputs": [],
   "source": [
    "test_df = df.copy()"
   ]
  },
  {
   "cell_type": "markdown",
   "id": "574e00aa",
   "metadata": {},
   "source": [
    "#### One variable of interest is the time of day that each flight segment departs from the airport. We create new columns <i>departure1timeGroup</i> and <i>departure2timeGroup</i> to create buckets for each departure time. The buckets are as follows.\n",
    "Morning: 3:00am-9:00am, Lunch: 9:00am-3:00pm, Afternoon: 3:00pm-9:00pm, Redeye: 9:00pm-3:00am"
   ]
  },
  {
   "cell_type": "code",
   "execution_count": 30,
   "id": "267e5aed",
   "metadata": {
    "scrolled": true
   },
   "outputs": [],
   "source": [
    "def timeSection(time):\n",
    "    strTime = time.strftime('%H:%M:%S')\n",
    "    if strTime < '09:00:01' and strTime > '03:00:00':\n",
    "        return 'Morning'\n",
    "    elif strTime < '15:00:01' and strTime > '09:00:00':\n",
    "        return 'Lunch'\n",
    "    elif strTime < '21:00:01' and strTime > '15:00:00':\n",
    "        return 'Afternoon'\n",
    "    else:\n",
    "        return 'Redeye'\n",
    "test_df['departure1timeGroup'] = test_df.segment1DepartureTime.apply(lambda x: timeSection(x))\n",
    "test_df['departure2timeGroup'] = test_df.segment2DepartureTime.apply(lambda x: np.nan if pd.isnull(x) else timeSection(x))"
   ]
  },
  {
   "cell_type": "markdown",
   "id": "362c0ddc",
   "metadata": {},
   "source": [
    "#### <i>statsmodel</i> Regression summary offers initial insights about the effect of travel distance, airline, ticket type, travel time, and departure time group on total fare cost."
   ]
  },
  {
   "cell_type": "code",
   "execution_count": 31,
   "id": "c58bd681",
   "metadata": {
    "scrolled": false
   },
   "outputs": [
    {
     "data": {
      "text/html": [
       "<table class=\"simpletable\">\n",
       "<caption>OLS Regression Results</caption>\n",
       "<tr>\n",
       "  <th>Dep. Variable:</th>        <td>totalFare</td>    <th>  R-squared:         </th>  <td>   0.283</td>  \n",
       "</tr>\n",
       "<tr>\n",
       "  <th>Model:</th>                   <td>OLS</td>       <th>  Adj. R-squared:    </th>  <td>   0.283</td>  \n",
       "</tr>\n",
       "<tr>\n",
       "  <th>Method:</th>             <td>Least Squares</td>  <th>  F-statistic:       </th>  <td>3.111e+04</td> \n",
       "</tr>\n",
       "<tr>\n",
       "  <th>Date:</th>             <td>Mon, 05 Dec 2022</td> <th>  Prob (F-statistic):</th>   <td>  0.00</td>   \n",
       "</tr>\n",
       "<tr>\n",
       "  <th>Time:</th>                 <td>14:29:27</td>     <th>  Log-Likelihood:    </th> <td>-3.0365e+06</td>\n",
       "</tr>\n",
       "<tr>\n",
       "  <th>No. Observations:</th>      <td>472219</td>      <th>  AIC:               </th>  <td>6.073e+06</td> \n",
       "</tr>\n",
       "<tr>\n",
       "  <th>Df Residuals:</th>          <td>472212</td>      <th>  BIC:               </th>  <td>6.073e+06</td> \n",
       "</tr>\n",
       "<tr>\n",
       "  <th>Df Model:</th>              <td>     6</td>      <th>                     </th>      <td> </td>     \n",
       "</tr>\n",
       "<tr>\n",
       "  <th>Covariance Type:</th>      <td>nonrobust</td>    <th>                     </th>      <td> </td>     \n",
       "</tr>\n",
       "</table>\n",
       "<table class=\"simpletable\">\n",
       "<tr>\n",
       "                 <td></td>                   <th>coef</th>     <th>std err</th>      <th>t</th>      <th>P>|t|</th>  <th>[0.025</th>    <th>0.975]</th>  \n",
       "</tr>\n",
       "<tr>\n",
       "  <th>Intercept</th>                      <td>  226.6722</td> <td>    0.851</td> <td>  266.432</td> <td> 0.000</td> <td>  225.005</td> <td>  228.340</td>\n",
       "</tr>\n",
       "<tr>\n",
       "  <th>departure1timeGroup[T.Lunch]</th>   <td>    7.3580</td> <td>    0.604</td> <td>   12.185</td> <td> 0.000</td> <td>    6.174</td> <td>    8.542</td>\n",
       "</tr>\n",
       "<tr>\n",
       "  <th>departure1timeGroup[T.Morning]</th> <td>   -0.1379</td> <td>    0.613</td> <td>   -0.225</td> <td> 0.822</td> <td>   -1.339</td> <td>    1.063</td>\n",
       "</tr>\n",
       "<tr>\n",
       "  <th>departure1timeGroup[T.Redeye]</th>  <td>   -1.1398</td> <td>    0.916</td> <td>   -1.244</td> <td> 0.214</td> <td>   -2.936</td> <td>    0.656</td>\n",
       "</tr>\n",
       "<tr>\n",
       "  <th>isBasicEconomy[T.True]</th>         <td> -188.9760</td> <td>    0.592</td> <td> -319.009</td> <td> 0.000</td> <td> -190.137</td> <td> -187.815</td>\n",
       "</tr>\n",
       "<tr>\n",
       "  <th>totalTravelDistance</th>            <td>    0.0605</td> <td>    0.000</td> <td>  168.860</td> <td> 0.000</td> <td>    0.060</td> <td>    0.061</td>\n",
       "</tr>\n",
       "<tr>\n",
       "  <th>travelminutes</th>                  <td>    0.1156</td> <td>    0.002</td> <td>   60.824</td> <td> 0.000</td> <td>    0.112</td> <td>    0.119</td>\n",
       "</tr>\n",
       "</table>\n",
       "<table class=\"simpletable\">\n",
       "<tr>\n",
       "  <th>Omnibus:</th>       <td>291948.656</td> <th>  Durbin-Watson:     </th>   <td>   1.620</td>  \n",
       "</tr>\n",
       "<tr>\n",
       "  <th>Prob(Omnibus):</th>   <td> 0.000</td>   <th>  Jarque-Bera (JB):  </th> <td>11035297.906</td>\n",
       "</tr>\n",
       "<tr>\n",
       "  <th>Skew:</th>            <td> 2.408</td>   <th>  Prob(JB):          </th>   <td>    0.00</td>  \n",
       "</tr>\n",
       "<tr>\n",
       "  <th>Kurtosis:</th>        <td>26.187</td>   <th>  Cond. No.          </th>   <td>9.94e+03</td>  \n",
       "</tr>\n",
       "</table><br/><br/>Notes:<br/>[1] Standard Errors assume that the covariance matrix of the errors is correctly specified.<br/>[2] The condition number is large, 9.94e+03. This might indicate that there are<br/>strong multicollinearity or other numerical problems."
      ],
      "text/plain": [
       "<class 'statsmodels.iolib.summary.Summary'>\n",
       "\"\"\"\n",
       "                            OLS Regression Results                            \n",
       "==============================================================================\n",
       "Dep. Variable:              totalFare   R-squared:                       0.283\n",
       "Model:                            OLS   Adj. R-squared:                  0.283\n",
       "Method:                 Least Squares   F-statistic:                 3.111e+04\n",
       "Date:                Mon, 05 Dec 2022   Prob (F-statistic):               0.00\n",
       "Time:                        14:29:27   Log-Likelihood:            -3.0365e+06\n",
       "No. Observations:              472219   AIC:                         6.073e+06\n",
       "Df Residuals:                  472212   BIC:                         6.073e+06\n",
       "Df Model:                           6                                         \n",
       "Covariance Type:            nonrobust                                         \n",
       "==================================================================================================\n",
       "                                     coef    std err          t      P>|t|      [0.025      0.975]\n",
       "--------------------------------------------------------------------------------------------------\n",
       "Intercept                        226.6722      0.851    266.432      0.000     225.005     228.340\n",
       "departure1timeGroup[T.Lunch]       7.3580      0.604     12.185      0.000       6.174       8.542\n",
       "departure1timeGroup[T.Morning]    -0.1379      0.613     -0.225      0.822      -1.339       1.063\n",
       "departure1timeGroup[T.Redeye]     -1.1398      0.916     -1.244      0.214      -2.936       0.656\n",
       "isBasicEconomy[T.True]          -188.9760      0.592   -319.009      0.000    -190.137    -187.815\n",
       "totalTravelDistance                0.0605      0.000    168.860      0.000       0.060       0.061\n",
       "travelminutes                      0.1156      0.002     60.824      0.000       0.112       0.119\n",
       "==============================================================================\n",
       "Omnibus:                   291948.656   Durbin-Watson:                   1.620\n",
       "Prob(Omnibus):                  0.000   Jarque-Bera (JB):         11035297.906\n",
       "Skew:                           2.408   Prob(JB):                         0.00\n",
       "Kurtosis:                      26.187   Cond. No.                     9.94e+03\n",
       "==============================================================================\n",
       "\n",
       "Notes:\n",
       "[1] Standard Errors assume that the covariance matrix of the errors is correctly specified.\n",
       "[2] The condition number is large, 9.94e+03. This might indicate that there are\n",
       "strong multicollinearity or other numerical problems.\n",
       "\"\"\""
      ]
     },
     "execution_count": 31,
     "metadata": {},
     "output_type": "execute_result"
    }
   ],
   "source": [
    "mod = smf.ols(formula='totalFare ~ totalTravelDistance + travelminutes + departure1timeGroup \\\n",
    "    + isBasicEconomy', data=test_df)\n",
    "res = mod.fit()\n",
    "res.summary()"
   ]
  },
  {
   "cell_type": "markdown",
   "id": "e6444cea",
   "metadata": {},
   "source": [
    "#### Next, we want to develop a decision tree. We must create dummy variables for those that are not already categorical."
   ]
  },
  {
   "cell_type": "code",
   "execution_count": 32,
   "id": "ad0fc95b",
   "metadata": {},
   "outputs": [],
   "source": [
    "test_df = pd.get_dummies(data = test_df, columns = ['isBasicEconomy', 'startingAirport', 'destinationAirport', \\\n",
    "                                                     'segment1CabinCode',  'segment1AirlineName',  \\\n",
    "                                                     'departure1timeGroup', 'FlightDayofWeek'])"
   ]
  },
  {
   "cell_type": "code",
   "execution_count": 33,
   "id": "8fe99c4f",
   "metadata": {},
   "outputs": [
    {
     "data": {
      "text/plain": [
       "(522638, 82)"
      ]
     },
     "execution_count": 33,
     "metadata": {},
     "output_type": "execute_result"
    }
   ],
   "source": [
    "test_df.shape"
   ]
  },
  {
   "cell_type": "markdown",
   "id": "8c97f7c8",
   "metadata": {},
   "source": [
    "#### Make non-numeric columns numeric"
   ]
  },
  {
   "cell_type": "code",
   "execution_count": 34,
   "id": "2a048049",
   "metadata": {},
   "outputs": [],
   "source": [
    "test_df['segment1distance'] = pd.to_numeric(test_df['segment1distance'], errors='coerce')\n",
    "test_df['segment2distance'] = pd.to_numeric(test_df['segment2distance'], errors='coerce')"
   ]
  },
  {
   "cell_type": "markdown",
   "id": "df62d6f9",
   "metadata": {},
   "source": [
    "#### Define X and Y variables to predict <i>totalFare</i>"
   ]
  },
  {
   "cell_type": "code",
   "execution_count": 35,
   "id": "596366c7",
   "metadata": {},
   "outputs": [],
   "source": [
    "Y = test_df.totalFare\n",
    "\n",
    "X = test_df.drop(columns = ['totalFare', 'searchDate', 'flightDate', 'baseFare', 'segment1DepartureTime', \\\n",
    "                            'segment2DepartureTime', 'segment1ArrivalTime', 'segment2ArrivalTime', \\\n",
    "                            'segment2CabinCode', 'segment2AirlineName',  'departure2timeGroup', \\\n",
    "                            'segment1EquipmentDescription', 'segment2EquipmentDescription', 'layoverairport'], axis = 1)"
   ]
  },
  {
   "cell_type": "code",
   "execution_count": 36,
   "id": "bf4b5018",
   "metadata": {
    "scrolled": true
   },
   "outputs": [
    {
     "data": {
      "text/html": [
       "<div>\n",
       "<style scoped>\n",
       "    .dataframe tbody tr th:only-of-type {\n",
       "        vertical-align: middle;\n",
       "    }\n",
       "\n",
       "    .dataframe tbody tr th {\n",
       "        vertical-align: top;\n",
       "    }\n",
       "\n",
       "    .dataframe thead th {\n",
       "        text-align: right;\n",
       "    }\n",
       "</style>\n",
       "<table border=\"1\" class=\"dataframe\">\n",
       "  <thead>\n",
       "    <tr style=\"text-align: right;\">\n",
       "      <th></th>\n",
       "      <th>SearchDayofWeek</th>\n",
       "      <th>totalTravelDistance</th>\n",
       "      <th>segment1distance</th>\n",
       "      <th>segment2distance</th>\n",
       "      <th>travelminutes</th>\n",
       "      <th>segment1min</th>\n",
       "      <th>segment2min</th>\n",
       "      <th>layoverduration</th>\n",
       "      <th>isBasicEconomy_False</th>\n",
       "      <th>isBasicEconomy_True</th>\n",
       "      <th>startingAirport_ATL</th>\n",
       "      <th>startingAirport_BOS</th>\n",
       "      <th>startingAirport_CLT</th>\n",
       "      <th>startingAirport_DEN</th>\n",
       "      <th>startingAirport_DFW</th>\n",
       "      <th>startingAirport_DTW</th>\n",
       "      <th>startingAirport_EWR</th>\n",
       "      <th>startingAirport_IAD</th>\n",
       "      <th>startingAirport_JFK</th>\n",
       "      <th>startingAirport_LAX</th>\n",
       "      <th>startingAirport_LGA</th>\n",
       "      <th>startingAirport_MIA</th>\n",
       "      <th>startingAirport_OAK</th>\n",
       "      <th>startingAirport_ORD</th>\n",
       "      <th>startingAirport_PHL</th>\n",
       "      <th>startingAirport_SFO</th>\n",
       "      <th>destinationAirport_ATL</th>\n",
       "      <th>destinationAirport_BOS</th>\n",
       "      <th>destinationAirport_CLT</th>\n",
       "      <th>destinationAirport_DEN</th>\n",
       "      <th>destinationAirport_DFW</th>\n",
       "      <th>destinationAirport_DTW</th>\n",
       "      <th>destinationAirport_EWR</th>\n",
       "      <th>destinationAirport_IAD</th>\n",
       "      <th>destinationAirport_JFK</th>\n",
       "      <th>destinationAirport_LAX</th>\n",
       "      <th>destinationAirport_LGA</th>\n",
       "      <th>destinationAirport_MIA</th>\n",
       "      <th>destinationAirport_OAK</th>\n",
       "      <th>destinationAirport_ORD</th>\n",
       "      <th>destinationAirport_PHL</th>\n",
       "      <th>destinationAirport_SFO</th>\n",
       "      <th>segment1CabinCode_business</th>\n",
       "      <th>segment1CabinCode_coach</th>\n",
       "      <th>segment1CabinCode_first</th>\n",
       "      <th>segment1CabinCode_premium coach</th>\n",
       "      <th>segment1AirlineName_Alaska Airlines</th>\n",
       "      <th>segment1AirlineName_American Airlines</th>\n",
       "      <th>segment1AirlineName_Cape Air</th>\n",
       "      <th>segment1AirlineName_Delta</th>\n",
       "      <th>segment1AirlineName_Frontier Airlines</th>\n",
       "      <th>segment1AirlineName_Hawaiian Airlines</th>\n",
       "      <th>segment1AirlineName_JetBlue Airways</th>\n",
       "      <th>segment1AirlineName_Key Lime Air</th>\n",
       "      <th>segment1AirlineName_Spirit Airlines</th>\n",
       "      <th>segment1AirlineName_Sun Country Airlines</th>\n",
       "      <th>segment1AirlineName_United</th>\n",
       "      <th>departure1timeGroup_Afternoon</th>\n",
       "      <th>departure1timeGroup_Lunch</th>\n",
       "      <th>departure1timeGroup_Morning</th>\n",
       "      <th>departure1timeGroup_Redeye</th>\n",
       "      <th>FlightDayofWeek_0</th>\n",
       "      <th>FlightDayofWeek_1</th>\n",
       "      <th>FlightDayofWeek_2</th>\n",
       "      <th>FlightDayofWeek_3</th>\n",
       "      <th>FlightDayofWeek_4</th>\n",
       "      <th>FlightDayofWeek_5</th>\n",
       "      <th>FlightDayofWeek_6</th>\n",
       "    </tr>\n",
       "  </thead>\n",
       "  <tbody>\n",
       "    <tr>\n",
       "      <th>0</th>\n",
       "      <td>5</td>\n",
       "      <td>1462.0</td>\n",
       "      <td>600.0</td>\n",
       "      <td>862.0</td>\n",
       "      <td>490.0</td>\n",
       "      <td>130.0</td>\n",
       "      <td>144.0</td>\n",
       "      <td>216.0</td>\n",
       "      <td>1</td>\n",
       "      <td>0</td>\n",
       "      <td>1</td>\n",
       "      <td>0</td>\n",
       "      <td>0</td>\n",
       "      <td>0</td>\n",
       "      <td>0</td>\n",
       "      <td>0</td>\n",
       "      <td>0</td>\n",
       "      <td>0</td>\n",
       "      <td>0</td>\n",
       "      <td>0</td>\n",
       "      <td>0</td>\n",
       "      <td>0</td>\n",
       "      <td>0</td>\n",
       "      <td>0</td>\n",
       "      <td>0</td>\n",
       "      <td>0</td>\n",
       "      <td>0</td>\n",
       "      <td>1</td>\n",
       "      <td>0</td>\n",
       "      <td>0</td>\n",
       "      <td>0</td>\n",
       "      <td>0</td>\n",
       "      <td>0</td>\n",
       "      <td>0</td>\n",
       "      <td>0</td>\n",
       "      <td>0</td>\n",
       "      <td>0</td>\n",
       "      <td>0</td>\n",
       "      <td>0</td>\n",
       "      <td>0</td>\n",
       "      <td>0</td>\n",
       "      <td>0</td>\n",
       "      <td>0</td>\n",
       "      <td>1</td>\n",
       "      <td>0</td>\n",
       "      <td>0</td>\n",
       "      <td>0</td>\n",
       "      <td>0</td>\n",
       "      <td>0</td>\n",
       "      <td>0</td>\n",
       "      <td>0</td>\n",
       "      <td>0</td>\n",
       "      <td>0</td>\n",
       "      <td>0</td>\n",
       "      <td>0</td>\n",
       "      <td>0</td>\n",
       "      <td>1</td>\n",
       "      <td>0</td>\n",
       "      <td>0</td>\n",
       "      <td>1</td>\n",
       "      <td>0</td>\n",
       "      <td>0</td>\n",
       "      <td>0</td>\n",
       "      <td>0</td>\n",
       "      <td>0</td>\n",
       "      <td>0</td>\n",
       "      <td>0</td>\n",
       "      <td>1</td>\n",
       "    </tr>\n",
       "    <tr>\n",
       "      <th>3</th>\n",
       "      <td>5</td>\n",
       "      <td>2055.0</td>\n",
       "      <td>1207.0</td>\n",
       "      <td>848.0</td>\n",
       "      <td>563.0</td>\n",
       "      <td>201.0</td>\n",
       "      <td>148.0</td>\n",
       "      <td>214.0</td>\n",
       "      <td>1</td>\n",
       "      <td>0</td>\n",
       "      <td>1</td>\n",
       "      <td>0</td>\n",
       "      <td>0</td>\n",
       "      <td>0</td>\n",
       "      <td>0</td>\n",
       "      <td>0</td>\n",
       "      <td>0</td>\n",
       "      <td>0</td>\n",
       "      <td>0</td>\n",
       "      <td>0</td>\n",
       "      <td>0</td>\n",
       "      <td>0</td>\n",
       "      <td>0</td>\n",
       "      <td>0</td>\n",
       "      <td>0</td>\n",
       "      <td>0</td>\n",
       "      <td>0</td>\n",
       "      <td>0</td>\n",
       "      <td>0</td>\n",
       "      <td>0</td>\n",
       "      <td>0</td>\n",
       "      <td>0</td>\n",
       "      <td>0</td>\n",
       "      <td>0</td>\n",
       "      <td>0</td>\n",
       "      <td>1</td>\n",
       "      <td>0</td>\n",
       "      <td>0</td>\n",
       "      <td>0</td>\n",
       "      <td>0</td>\n",
       "      <td>0</td>\n",
       "      <td>0</td>\n",
       "      <td>0</td>\n",
       "      <td>1</td>\n",
       "      <td>0</td>\n",
       "      <td>0</td>\n",
       "      <td>0</td>\n",
       "      <td>0</td>\n",
       "      <td>0</td>\n",
       "      <td>0</td>\n",
       "      <td>0</td>\n",
       "      <td>0</td>\n",
       "      <td>0</td>\n",
       "      <td>0</td>\n",
       "      <td>0</td>\n",
       "      <td>0</td>\n",
       "      <td>1</td>\n",
       "      <td>0</td>\n",
       "      <td>0</td>\n",
       "      <td>1</td>\n",
       "      <td>0</td>\n",
       "      <td>0</td>\n",
       "      <td>0</td>\n",
       "      <td>0</td>\n",
       "      <td>0</td>\n",
       "      <td>0</td>\n",
       "      <td>0</td>\n",
       "      <td>1</td>\n",
       "    </tr>\n",
       "    <tr>\n",
       "      <th>4</th>\n",
       "      <td>5</td>\n",
       "      <td>2161.0</td>\n",
       "      <td>1587.0</td>\n",
       "      <td>574.0</td>\n",
       "      <td>426.0</td>\n",
       "      <td>248.0</td>\n",
       "      <td>103.0</td>\n",
       "      <td>75.0</td>\n",
       "      <td>1</td>\n",
       "      <td>0</td>\n",
       "      <td>1</td>\n",
       "      <td>0</td>\n",
       "      <td>0</td>\n",
       "      <td>0</td>\n",
       "      <td>0</td>\n",
       "      <td>0</td>\n",
       "      <td>0</td>\n",
       "      <td>0</td>\n",
       "      <td>0</td>\n",
       "      <td>0</td>\n",
       "      <td>0</td>\n",
       "      <td>0</td>\n",
       "      <td>0</td>\n",
       "      <td>0</td>\n",
       "      <td>0</td>\n",
       "      <td>0</td>\n",
       "      <td>0</td>\n",
       "      <td>0</td>\n",
       "      <td>0</td>\n",
       "      <td>0</td>\n",
       "      <td>0</td>\n",
       "      <td>0</td>\n",
       "      <td>0</td>\n",
       "      <td>0</td>\n",
       "      <td>0</td>\n",
       "      <td>1</td>\n",
       "      <td>0</td>\n",
       "      <td>0</td>\n",
       "      <td>0</td>\n",
       "      <td>0</td>\n",
       "      <td>0</td>\n",
       "      <td>0</td>\n",
       "      <td>0</td>\n",
       "      <td>1</td>\n",
       "      <td>0</td>\n",
       "      <td>0</td>\n",
       "      <td>0</td>\n",
       "      <td>0</td>\n",
       "      <td>0</td>\n",
       "      <td>1</td>\n",
       "      <td>0</td>\n",
       "      <td>0</td>\n",
       "      <td>0</td>\n",
       "      <td>0</td>\n",
       "      <td>0</td>\n",
       "      <td>0</td>\n",
       "      <td>0</td>\n",
       "      <td>1</td>\n",
       "      <td>0</td>\n",
       "      <td>0</td>\n",
       "      <td>0</td>\n",
       "      <td>0</td>\n",
       "      <td>0</td>\n",
       "      <td>0</td>\n",
       "      <td>0</td>\n",
       "      <td>0</td>\n",
       "      <td>0</td>\n",
       "      <td>1</td>\n",
       "    </tr>\n",
       "    <tr>\n",
       "      <th>6</th>\n",
       "      <td>5</td>\n",
       "      <td>2105.0</td>\n",
       "      <td>725.0</td>\n",
       "      <td>1380.0</td>\n",
       "      <td>414.0</td>\n",
       "      <td>143.0</td>\n",
       "      <td>205.0</td>\n",
       "      <td>66.0</td>\n",
       "      <td>1</td>\n",
       "      <td>0</td>\n",
       "      <td>1</td>\n",
       "      <td>0</td>\n",
       "      <td>0</td>\n",
       "      <td>0</td>\n",
       "      <td>0</td>\n",
       "      <td>0</td>\n",
       "      <td>0</td>\n",
       "      <td>0</td>\n",
       "      <td>0</td>\n",
       "      <td>0</td>\n",
       "      <td>0</td>\n",
       "      <td>0</td>\n",
       "      <td>0</td>\n",
       "      <td>0</td>\n",
       "      <td>0</td>\n",
       "      <td>0</td>\n",
       "      <td>0</td>\n",
       "      <td>0</td>\n",
       "      <td>0</td>\n",
       "      <td>0</td>\n",
       "      <td>0</td>\n",
       "      <td>0</td>\n",
       "      <td>0</td>\n",
       "      <td>0</td>\n",
       "      <td>0</td>\n",
       "      <td>0</td>\n",
       "      <td>1</td>\n",
       "      <td>0</td>\n",
       "      <td>0</td>\n",
       "      <td>0</td>\n",
       "      <td>0</td>\n",
       "      <td>0</td>\n",
       "      <td>0</td>\n",
       "      <td>1</td>\n",
       "      <td>0</td>\n",
       "      <td>0</td>\n",
       "      <td>0</td>\n",
       "      <td>1</td>\n",
       "      <td>0</td>\n",
       "      <td>0</td>\n",
       "      <td>0</td>\n",
       "      <td>0</td>\n",
       "      <td>0</td>\n",
       "      <td>0</td>\n",
       "      <td>0</td>\n",
       "      <td>0</td>\n",
       "      <td>0</td>\n",
       "      <td>0</td>\n",
       "      <td>0</td>\n",
       "      <td>1</td>\n",
       "      <td>0</td>\n",
       "      <td>0</td>\n",
       "      <td>0</td>\n",
       "      <td>0</td>\n",
       "      <td>0</td>\n",
       "      <td>0</td>\n",
       "      <td>0</td>\n",
       "      <td>1</td>\n",
       "    </tr>\n",
       "    <tr>\n",
       "      <th>7</th>\n",
       "      <td>5</td>\n",
       "      <td>1482.0</td>\n",
       "      <td>762.0</td>\n",
       "      <td>720.0</td>\n",
       "      <td>515.0</td>\n",
       "      <td>139.0</td>\n",
       "      <td>165.0</td>\n",
       "      <td>211.0</td>\n",
       "      <td>1</td>\n",
       "      <td>0</td>\n",
       "      <td>1</td>\n",
       "      <td>0</td>\n",
       "      <td>0</td>\n",
       "      <td>0</td>\n",
       "      <td>0</td>\n",
       "      <td>0</td>\n",
       "      <td>0</td>\n",
       "      <td>0</td>\n",
       "      <td>0</td>\n",
       "      <td>0</td>\n",
       "      <td>0</td>\n",
       "      <td>0</td>\n",
       "      <td>0</td>\n",
       "      <td>0</td>\n",
       "      <td>0</td>\n",
       "      <td>0</td>\n",
       "      <td>0</td>\n",
       "      <td>0</td>\n",
       "      <td>0</td>\n",
       "      <td>0</td>\n",
       "      <td>0</td>\n",
       "      <td>0</td>\n",
       "      <td>0</td>\n",
       "      <td>0</td>\n",
       "      <td>0</td>\n",
       "      <td>0</td>\n",
       "      <td>0</td>\n",
       "      <td>0</td>\n",
       "      <td>0</td>\n",
       "      <td>1</td>\n",
       "      <td>0</td>\n",
       "      <td>0</td>\n",
       "      <td>0</td>\n",
       "      <td>1</td>\n",
       "      <td>0</td>\n",
       "      <td>0</td>\n",
       "      <td>0</td>\n",
       "      <td>1</td>\n",
       "      <td>0</td>\n",
       "      <td>0</td>\n",
       "      <td>0</td>\n",
       "      <td>0</td>\n",
       "      <td>0</td>\n",
       "      <td>0</td>\n",
       "      <td>0</td>\n",
       "      <td>0</td>\n",
       "      <td>0</td>\n",
       "      <td>0</td>\n",
       "      <td>1</td>\n",
       "      <td>0</td>\n",
       "      <td>0</td>\n",
       "      <td>0</td>\n",
       "      <td>0</td>\n",
       "      <td>0</td>\n",
       "      <td>0</td>\n",
       "      <td>0</td>\n",
       "      <td>0</td>\n",
       "      <td>1</td>\n",
       "    </tr>\n",
       "  </tbody>\n",
       "</table>\n",
       "</div>"
      ],
      "text/plain": [
       "   SearchDayofWeek  totalTravelDistance  segment1distance  segment2distance  \\\n",
       "0                5               1462.0             600.0             862.0   \n",
       "3                5               2055.0            1207.0             848.0   \n",
       "4                5               2161.0            1587.0             574.0   \n",
       "6                5               2105.0             725.0            1380.0   \n",
       "7                5               1482.0             762.0             720.0   \n",
       "\n",
       "   travelminutes  segment1min  segment2min  layoverduration  \\\n",
       "0          490.0        130.0        144.0            216.0   \n",
       "3          563.0        201.0        148.0            214.0   \n",
       "4          426.0        248.0        103.0             75.0   \n",
       "6          414.0        143.0        205.0             66.0   \n",
       "7          515.0        139.0        165.0            211.0   \n",
       "\n",
       "   isBasicEconomy_False  isBasicEconomy_True  startingAirport_ATL  \\\n",
       "0                     1                    0                    1   \n",
       "3                     1                    0                    1   \n",
       "4                     1                    0                    1   \n",
       "6                     1                    0                    1   \n",
       "7                     1                    0                    1   \n",
       "\n",
       "   startingAirport_BOS  startingAirport_CLT  startingAirport_DEN  \\\n",
       "0                    0                    0                    0   \n",
       "3                    0                    0                    0   \n",
       "4                    0                    0                    0   \n",
       "6                    0                    0                    0   \n",
       "7                    0                    0                    0   \n",
       "\n",
       "   startingAirport_DFW  startingAirport_DTW  startingAirport_EWR  \\\n",
       "0                    0                    0                    0   \n",
       "3                    0                    0                    0   \n",
       "4                    0                    0                    0   \n",
       "6                    0                    0                    0   \n",
       "7                    0                    0                    0   \n",
       "\n",
       "   startingAirport_IAD  startingAirport_JFK  startingAirport_LAX  \\\n",
       "0                    0                    0                    0   \n",
       "3                    0                    0                    0   \n",
       "4                    0                    0                    0   \n",
       "6                    0                    0                    0   \n",
       "7                    0                    0                    0   \n",
       "\n",
       "   startingAirport_LGA  startingAirport_MIA  startingAirport_OAK  \\\n",
       "0                    0                    0                    0   \n",
       "3                    0                    0                    0   \n",
       "4                    0                    0                    0   \n",
       "6                    0                    0                    0   \n",
       "7                    0                    0                    0   \n",
       "\n",
       "   startingAirport_ORD  startingAirport_PHL  startingAirport_SFO  \\\n",
       "0                    0                    0                    0   \n",
       "3                    0                    0                    0   \n",
       "4                    0                    0                    0   \n",
       "6                    0                    0                    0   \n",
       "7                    0                    0                    0   \n",
       "\n",
       "   destinationAirport_ATL  destinationAirport_BOS  destinationAirport_CLT  \\\n",
       "0                       0                       1                       0   \n",
       "3                       0                       0                       0   \n",
       "4                       0                       0                       0   \n",
       "6                       0                       0                       0   \n",
       "7                       0                       0                       0   \n",
       "\n",
       "   destinationAirport_DEN  destinationAirport_DFW  destinationAirport_DTW  \\\n",
       "0                       0                       0                       0   \n",
       "3                       0                       0                       0   \n",
       "4                       0                       0                       0   \n",
       "6                       0                       0                       0   \n",
       "7                       0                       0                       0   \n",
       "\n",
       "   destinationAirport_EWR  destinationAirport_IAD  destinationAirport_JFK  \\\n",
       "0                       0                       0                       0   \n",
       "3                       0                       0                       0   \n",
       "4                       0                       0                       0   \n",
       "6                       0                       0                       0   \n",
       "7                       0                       0                       0   \n",
       "\n",
       "   destinationAirport_LAX  destinationAirport_LGA  destinationAirport_MIA  \\\n",
       "0                       0                       0                       0   \n",
       "3                       1                       0                       0   \n",
       "4                       1                       0                       0   \n",
       "6                       0                       1                       0   \n",
       "7                       0                       0                       0   \n",
       "\n",
       "   destinationAirport_OAK  destinationAirport_ORD  destinationAirport_PHL  \\\n",
       "0                       0                       0                       0   \n",
       "3                       0                       0                       0   \n",
       "4                       0                       0                       0   \n",
       "6                       0                       0                       0   \n",
       "7                       0                       1                       0   \n",
       "\n",
       "   destinationAirport_SFO  segment1CabinCode_business  \\\n",
       "0                       0                           0   \n",
       "3                       0                           0   \n",
       "4                       0                           0   \n",
       "6                       0                           0   \n",
       "7                       0                           0   \n",
       "\n",
       "   segment1CabinCode_coach  segment1CabinCode_first  \\\n",
       "0                        1                        0   \n",
       "3                        1                        0   \n",
       "4                        1                        0   \n",
       "6                        1                        0   \n",
       "7                        1                        0   \n",
       "\n",
       "   segment1CabinCode_premium coach  segment1AirlineName_Alaska Airlines  \\\n",
       "0                                0                                    0   \n",
       "3                                0                                    0   \n",
       "4                                0                                    0   \n",
       "6                                0                                    0   \n",
       "7                                0                                    0   \n",
       "\n",
       "   segment1AirlineName_American Airlines  segment1AirlineName_Cape Air  \\\n",
       "0                                      0                             0   \n",
       "3                                      0                             0   \n",
       "4                                      0                             0   \n",
       "6                                      1                             0   \n",
       "7                                      1                             0   \n",
       "\n",
       "   segment1AirlineName_Delta  segment1AirlineName_Frontier Airlines  \\\n",
       "0                          0                                      0   \n",
       "3                          0                                      0   \n",
       "4                          1                                      0   \n",
       "6                          0                                      0   \n",
       "7                          0                                      0   \n",
       "\n",
       "   segment1AirlineName_Hawaiian Airlines  segment1AirlineName_JetBlue Airways  \\\n",
       "0                                      0                                    0   \n",
       "3                                      0                                    0   \n",
       "4                                      0                                    0   \n",
       "6                                      0                                    0   \n",
       "7                                      0                                    0   \n",
       "\n",
       "   segment1AirlineName_Key Lime Air  segment1AirlineName_Spirit Airlines  \\\n",
       "0                                 0                                    0   \n",
       "3                                 0                                    0   \n",
       "4                                 0                                    0   \n",
       "6                                 0                                    0   \n",
       "7                                 0                                    0   \n",
       "\n",
       "   segment1AirlineName_Sun Country Airlines  segment1AirlineName_United  \\\n",
       "0                                         0                           1   \n",
       "3                                         0                           1   \n",
       "4                                         0                           0   \n",
       "6                                         0                           0   \n",
       "7                                         0                           0   \n",
       "\n",
       "   departure1timeGroup_Afternoon  departure1timeGroup_Lunch  \\\n",
       "0                              0                          0   \n",
       "3                              0                          0   \n",
       "4                              1                          0   \n",
       "6                              0                          0   \n",
       "7                              0                          1   \n",
       "\n",
       "   departure1timeGroup_Morning  departure1timeGroup_Redeye  FlightDayofWeek_0  \\\n",
       "0                            1                           0                  0   \n",
       "3                            1                           0                  0   \n",
       "4                            0                           0                  0   \n",
       "6                            1                           0                  0   \n",
       "7                            0                           0                  0   \n",
       "\n",
       "   FlightDayofWeek_1  FlightDayofWeek_2  FlightDayofWeek_3  FlightDayofWeek_4  \\\n",
       "0                  0                  0                  0                  0   \n",
       "3                  0                  0                  0                  0   \n",
       "4                  0                  0                  0                  0   \n",
       "6                  0                  0                  0                  0   \n",
       "7                  0                  0                  0                  0   \n",
       "\n",
       "   FlightDayofWeek_5  FlightDayofWeek_6  \n",
       "0                  0                  1  \n",
       "3                  0                  1  \n",
       "4                  0                  1  \n",
       "6                  0                  1  \n",
       "7                  0                  1  "
      ]
     },
     "execution_count": 36,
     "metadata": {},
     "output_type": "execute_result"
    }
   ],
   "source": [
    "X.head()"
   ]
  },
  {
   "cell_type": "markdown",
   "id": "142d48b8",
   "metadata": {},
   "source": [
    "#### Fill null values with column mean values to ensure accurate analysis while avoiding dropping a large number of rows"
   ]
  },
  {
   "cell_type": "code",
   "execution_count": 37,
   "id": "f4599b7f",
   "metadata": {
    "scrolled": false
   },
   "outputs": [],
   "source": [
    "X.fillna(X.mean(), inplace=True)"
   ]
  },
  {
   "cell_type": "markdown",
   "id": "c10e04d3",
   "metadata": {},
   "source": [
    "#### Build and Display a Decision Tree Regressor"
   ]
  },
  {
   "cell_type": "code",
   "execution_count": 38,
   "id": "77b876ab",
   "metadata": {},
   "outputs": [
    {
     "data": {
      "text/plain": [
       "LinearRegression()"
      ]
     },
     "execution_count": 38,
     "metadata": {},
     "output_type": "execute_result"
    }
   ],
   "source": [
    "from sklearn import linear_model\n",
    "import sklearn.tree\n",
    "OLS = linear_model.LinearRegression()\n",
    "OLS.fit(X,Y)"
   ]
  },
  {
   "cell_type": "code",
   "execution_count": 39,
   "id": "d43b0dbf",
   "metadata": {},
   "outputs": [],
   "source": [
    "dt = sklearn.tree.DecisionTreeRegressor(max_depth=2)"
   ]
  },
  {
   "cell_type": "code",
   "execution_count": 40,
   "id": "d090db11",
   "metadata": {
    "scrolled": true
   },
   "outputs": [
    {
     "data": {
      "text/plain": [
       "DecisionTreeRegressor(max_depth=2)"
      ]
     },
     "execution_count": 40,
     "metadata": {},
     "output_type": "execute_result"
    }
   ],
   "source": [
    "dt.fit(X,Y)"
   ]
  },
  {
   "cell_type": "code",
   "execution_count": 41,
   "id": "c712df9e",
   "metadata": {},
   "outputs": [
    {
     "data": {
      "image/png": "[encoded data removed]",
      "text/plain": [
       "<IPython.core.display.Image object>"
      ]
     },
     "execution_count": 41,
     "metadata": {},
     "output_type": "execute_result"
    }
   ],
   "source": [
    "import sklearn.tree as tree\n",
    "from IPython.display import Image  \n",
    "import pydotplus\n",
    "\n",
    "dt_feature_names = list(X.columns)\n",
    "dt_target_names = np.array(Y.unique(),dtype=np.string_) \n",
    "tree.export_graphviz(dt, out_file='tree.dot', \n",
    "    feature_names=dt_feature_names, class_names=dt_target_names,\n",
    "    filled=True)  \n",
    "graph = pydotplus.graph_from_dot_file('tree.dot')\n",
    "Image(graph.create_png())"
   ]
  },
  {
   "cell_type": "markdown",
   "id": "8c3befa3",
   "metadata": {},
   "source": [
    "#### The model predicts that \"Basic Economy\" tickets will cost less than \"non-Basic Economy\" tickets. The next greatest predictor of price is <i>totalTravelDistance</i> and <i>travelminutes</i>. The model predicts that low-mileage trips and low duration flights with will cost less than longer trips."
   ]
  },
  {
   "cell_type": "markdown",
   "id": "73b4f331",
   "metadata": {},
   "source": [
    "### Regression for Prediction"
   ]
  },
  {
   "cell_type": "markdown",
   "id": "fa85c669",
   "metadata": {},
   "source": [
    "#### We now measure the predictive performance by creating a \"<i>train_test_split</i>\" to evaluate mean squared error and mean absolute deviation."
   ]
  },
  {
   "cell_type": "code",
   "execution_count": 42,
   "id": "2affa5df",
   "metadata": {},
   "outputs": [],
   "source": [
    "from sklearn.model_selection import train_test_split\n",
    "from sklearn.tree import DecisionTreeRegressor\n",
    "import sklearn.metrics as met"
   ]
  },
  {
   "cell_type": "code",
   "execution_count": 43,
   "id": "625a0f34",
   "metadata": {},
   "outputs": [],
   "source": [
    "X_train, X_test, Y_train, Y_test = train_test_split(X,Y,\n",
    "                                    test_size=.3,random_state=0)"
   ]
  },
  {
   "cell_type": "code",
   "execution_count": 44,
   "id": "841e3fe2",
   "metadata": {},
   "outputs": [
    {
     "data": {
      "text/plain": [
       "DecisionTreeRegressor(random_state=0)"
      ]
     },
     "execution_count": 44,
     "metadata": {},
     "output_type": "execute_result"
    }
   ],
   "source": [
    "dt2 = sklearn.tree.DecisionTreeRegressor(random_state = 0)\n",
    "dt2.fit(X_train, Y_train)"
   ]
  },
  {
   "cell_type": "code",
   "execution_count": 45,
   "id": "ce0117e2",
   "metadata": {},
   "outputs": [],
   "source": [
    "y_pred = dt2.predict(X_test)"
   ]
  },
  {
   "cell_type": "markdown",
   "id": "c28eaa20",
   "metadata": {},
   "source": [
    "#### Mean Absolute Deviation\n",
    "\n",
    "#### On average, this model predicts price <i>this many</i> dollars away from the actual price."
   ]
  },
  {
   "cell_type": "code",
   "execution_count": 46,
   "id": "c8630570",
   "metadata": {},
   "outputs": [
    {
     "data": {
      "text/plain": [
       "81.56929220772318"
      ]
     },
     "execution_count": 46,
     "metadata": {},
     "output_type": "execute_result"
    }
   ],
   "source": [
    "met.mean_absolute_error(Y_test, y_pred)"
   ]
  },
  {
   "cell_type": "markdown",
   "id": "8747cc7a",
   "metadata": {},
   "source": [
    "#### Mean Squared Error"
   ]
  },
  {
   "cell_type": "code",
   "execution_count": 47,
   "id": "092ec557",
   "metadata": {
    "scrolled": true
   },
   "outputs": [
    {
     "data": {
      "text/plain": [
       "15378.61656329609"
      ]
     },
     "execution_count": 47,
     "metadata": {},
     "output_type": "execute_result"
    }
   ],
   "source": [
    "met.mean_squared_error(Y_test, y_pred)"
   ]
  },
  {
   "cell_type": "markdown",
   "id": "d645d975",
   "metadata": {},
   "source": [
    "### Explore Relevant Attributes"
   ]
  },
  {
   "cell_type": "markdown",
   "id": "ccb9a4b7",
   "metadata": {},
   "source": [
    "#### Lastly, we evaluate the effect of each variable on total price by creating and displaying a dictionary mapping column name with corresponding coefficient."
   ]
  },
  {
   "cell_type": "code",
   "execution_count": 48,
   "id": "637e58c2",
   "metadata": {},
   "outputs": [],
   "source": [
    "OLS = linear_model.LinearRegression()"
   ]
  },
  {
   "cell_type": "code",
   "execution_count": 49,
   "id": "08f62e0d",
   "metadata": {},
   "outputs": [
    {
     "data": {
      "text/plain": [
       "LinearRegression()"
      ]
     },
     "execution_count": 49,
     "metadata": {},
     "output_type": "execute_result"
    }
   ],
   "source": [
    "OLS.fit(X,Y)"
   ]
  },
  {
   "cell_type": "code",
   "execution_count": 50,
   "id": "1df57270",
   "metadata": {},
   "outputs": [],
   "source": [
    "d = {X.columns[i]:OLS.coef_[i] for i in range(0, len(OLS.coef_))}"
   ]
  },
  {
   "cell_type": "code",
   "execution_count": 51,
   "id": "339fcb18",
   "metadata": {},
   "outputs": [],
   "source": [
    "s = pd.Series(d)"
   ]
  },
  {
   "cell_type": "code",
   "execution_count": 52,
   "id": "3daa8458",
   "metadata": {
    "scrolled": true
   },
   "outputs": [
    {
     "data": {
      "text/plain": [
       "segment1CabinCode_coach                     -765.312560\n",
       "segment1CabinCode_premium coach             -535.997442\n",
       "segment1AirlineName_Spirit Airlines         -175.393532\n",
       "segment1AirlineName_Frontier Airlines       -135.424118\n",
       "isBasicEconomy_True                          -93.638200\n",
       "segment1AirlineName_JetBlue Airways          -84.154209\n",
       "FlightDayofWeek_1                            -39.633156\n",
       "destinationAirport_MIA                       -35.002146\n",
       "destinationAirport_DFW                       -33.666953\n",
       "FlightDayofWeek_2                            -33.439366\n",
       "startingAirport_MIA                          -31.040018\n",
       "startingAirport_BOS                          -29.826858\n",
       "startingAirport_DFW                          -29.277498\n",
       "segment1AirlineName_Sun Country Airlines     -21.040116\n",
       "destinationAirport_LAX                       -20.048349\n",
       "segment1AirlineName_American Airlines        -19.003452\n",
       "startingAirport_LGA                          -18.221782\n",
       "destinationAirport_DEN                       -17.865983\n",
       "destinationAirport_ORD                       -17.730280\n",
       "destinationAirport_BOS                       -17.530159\n",
       "startingAirport_ORD                          -14.771127\n",
       "startingAirport_CLT                          -14.230883\n",
       "startingAirport_DEN                          -11.914653\n",
       "destinationAirport_LGA                       -10.091543\n",
       "startingAirport_ATL                           -6.778122\n",
       "destinationAirport_CLT                        -6.473238\n",
       "FlightDayofWeek_5                             -6.208187\n",
       "destinationAirport_ATL                        -5.571687\n",
       "startingAirport_EWR                           -4.575065\n",
       "departure1timeGroup_Redeye                    -4.122450\n",
       "departure1timeGroup_Afternoon                 -2.827028\n",
       "departure1timeGroup_Morning                   -2.450154\n",
       "startingAirport_LAX                           -2.220220\n",
       "destinationAirport_EWR                        -1.596608\n",
       "startingAirport_DTW                           -0.157443\n",
       "layoverduration                               -0.119321\n",
       "totalTravelDistance                           -0.054100\n",
       "segment1distance                               0.085078\n",
       "segment2distance                               0.086844\n",
       "segment2min                                    0.126483\n",
       "segment1min                                    0.167374\n",
       "travelminutes                                  0.174537\n",
       "SearchDayofWeek                                0.412673\n",
       "FlightDayofWeek_3                              1.215500\n",
       "FlightDayofWeek_0                              7.360210\n",
       "segment1AirlineName_Key Lime Air               9.193459\n",
       "departure1timeGroup_Lunch                      9.399631\n",
       "destinationAirport_SFO                        10.747812\n",
       "startingAirport_PHL                           11.725482\n",
       "destinationAirport_DTW                        12.442088\n",
       "FlightDayofWeek_4                             14.245250\n",
       "segment1AirlineName_United                    18.041254\n",
       "destinationAirport_PHL                        21.997360\n",
       "destinationAirport_IAD                        24.558081\n",
       "startingAirport_SFO                           29.742555\n",
       "startingAirport_IAD                           32.968518\n",
       "destinationAirport_OAK                        34.328074\n",
       "segment1AirlineName_Cape Air                  41.402030\n",
       "startingAirport_OAK                           42.795808\n",
       "startingAirport_JFK                           45.781304\n",
       "segment1AirlineName_Alaska Airlines           51.276418\n",
       "FlightDayofWeek_6                             56.459748\n",
       "destinationAirport_JFK                        61.503532\n",
       "segment1AirlineName_Delta                     65.505787\n",
       "isBasicEconomy_False                          93.638200\n",
       "segment1CabinCode_first                      108.693190\n",
       "segment1AirlineName_Hawaiian Airlines        249.596480\n",
       "segment1CabinCode_business                  1192.616812\n",
       "dtype: float64"
      ]
     },
     "execution_count": 52,
     "metadata": {},
     "output_type": "execute_result"
    }
   ],
   "source": [
    "pd.set_option('display.max_rows',None)\n",
    "s.sort_values()"
   ]
  },
  {
   "cell_type": "markdown",
   "id": "b98bf7fa",
   "metadata": {},
   "source": [
    "### Coefficient Analysis\n",
    "-The model predicts that If the <i>segment1CabinCode</i> is \"Business,\" <i>totalFare</i> increases by approximately \\\\$1000\n",
    "\n",
    "-Monday, Tuesday and Saturday have negative coefficienct, while all other days of the week have positive coefficients."
   ]
  },
  {
   "cell_type": "markdown",
   "id": "db87162a",
   "metadata": {},
   "source": [
    "#### Managerial Insights:\n",
    "For Expedia users looking for the cheapest tickets, the most important attribute is \"Cabin Code.\" Tickets labeled \"Coach\" will be significantly cheaper than those labeled \"First Class\" or \"Business Class.\" Additionally, these users should prioritize \"Basic Economy\" seats, which also tend to be much cheaper than non-Basic Economy seats. Lastly, buying flights scheduled for Monday or Tuesday will generally be cheaper than those flights later in the week or on weekends."
   ]
  },
  {
   "cell_type": "markdown",
   "id": "72ede797",
   "metadata": {},
   "source": [
    "## Finding 2: Which Airlines Carry the Highest Hidden Fees"
   ]
  },
  {
   "cell_type": "markdown",
   "id": "7723f0da",
   "metadata": {},
   "source": [
    "<b>Summary of finding</b>: \n",
    "The higher the base ticket price, the smaller the percent of that price you would pay in extra fees."
   ]
  },
  {
   "cell_type": "code",
   "execution_count": 53,
   "id": "6b30c891",
   "metadata": {
    "scrolled": false
   },
   "outputs": [
    {
     "data": {
      "text/html": [
       "<div>\n",
       "<style scoped>\n",
       "    .dataframe tbody tr th:only-of-type {\n",
       "        vertical-align: middle;\n",
       "    }\n",
       "\n",
       "    .dataframe tbody tr th {\n",
       "        vertical-align: top;\n",
       "    }\n",
       "\n",
       "    .dataframe thead th {\n",
       "        text-align: right;\n",
       "    }\n",
       "</style>\n",
       "<table border=\"1\" class=\"dataframe\">\n",
       "  <thead>\n",
       "    <tr style=\"text-align: right;\">\n",
       "      <th></th>\n",
       "      <th>searchDate</th>\n",
       "      <th>SearchDayofWeek</th>\n",
       "      <th>flightDate</th>\n",
       "      <th>FlightDayofWeek</th>\n",
       "      <th>startingAirport</th>\n",
       "      <th>layoverairport</th>\n",
       "      <th>destinationAirport</th>\n",
       "      <th>baseFare</th>\n",
       "      <th>totalFare</th>\n",
       "      <th>totalTravelDistance</th>\n",
       "      <th>segment1distance</th>\n",
       "      <th>segment2distance</th>\n",
       "      <th>travelminutes</th>\n",
       "      <th>segment1min</th>\n",
       "      <th>segment2min</th>\n",
       "      <th>segment1AirlineName</th>\n",
       "      <th>segment2AirlineName</th>\n",
       "      <th>segment1DepartureTime</th>\n",
       "      <th>segment1ArrivalTime</th>\n",
       "      <th>segment2DepartureTime</th>\n",
       "      <th>segment2ArrivalTime</th>\n",
       "      <th>layoverduration</th>\n",
       "      <th>segment1CabinCode</th>\n",
       "      <th>segment2CabinCode</th>\n",
       "      <th>segment1EquipmentDescription</th>\n",
       "      <th>segment2EquipmentDescription</th>\n",
       "      <th>isBasicEconomy</th>\n",
       "    </tr>\n",
       "  </thead>\n",
       "  <tbody>\n",
       "    <tr>\n",
       "      <th>0</th>\n",
       "      <td>2022-04-16</td>\n",
       "      <td>5</td>\n",
       "      <td>2022-04-17</td>\n",
       "      <td>6</td>\n",
       "      <td>ATL</td>\n",
       "      <td>ORD</td>\n",
       "      <td>BOS</td>\n",
       "      <td>213.02</td>\n",
       "      <td>252.6</td>\n",
       "      <td>1462.0</td>\n",
       "      <td>600</td>\n",
       "      <td>862</td>\n",
       "      <td>490.0</td>\n",
       "      <td>130.0</td>\n",
       "      <td>144.0</td>\n",
       "      <td>United</td>\n",
       "      <td>United</td>\n",
       "      <td>06:10:00</td>\n",
       "      <td>07:20:00</td>\n",
       "      <td>10:56:00</td>\n",
       "      <td>14:20:00</td>\n",
       "      <td>216.0</td>\n",
       "      <td>coach</td>\n",
       "      <td>coach</td>\n",
       "      <td>Embraer 175 (Enhanced Winglets)</td>\n",
       "      <td>Boeing 737 MAX 9</td>\n",
       "      <td>False</td>\n",
       "    </tr>\n",
       "    <tr>\n",
       "      <th>3</th>\n",
       "      <td>2022-04-16</td>\n",
       "      <td>5</td>\n",
       "      <td>2022-04-17</td>\n",
       "      <td>6</td>\n",
       "      <td>ATL</td>\n",
       "      <td>DEN</td>\n",
       "      <td>LAX</td>\n",
       "      <td>310.70</td>\n",
       "      <td>357.6</td>\n",
       "      <td>2055.0</td>\n",
       "      <td>1207</td>\n",
       "      <td>848</td>\n",
       "      <td>563.0</td>\n",
       "      <td>201.0</td>\n",
       "      <td>148.0</td>\n",
       "      <td>United</td>\n",
       "      <td>United</td>\n",
       "      <td>09:00:00</td>\n",
       "      <td>10:21:00</td>\n",
       "      <td>13:55:00</td>\n",
       "      <td>15:23:00</td>\n",
       "      <td>214.0</td>\n",
       "      <td>coach</td>\n",
       "      <td>coach</td>\n",
       "      <td>Airbus A319</td>\n",
       "      <td>Boeing 737-900</td>\n",
       "      <td>False</td>\n",
       "    </tr>\n",
       "    <tr>\n",
       "      <th>4</th>\n",
       "      <td>2022-04-16</td>\n",
       "      <td>5</td>\n",
       "      <td>2022-04-17</td>\n",
       "      <td>6</td>\n",
       "      <td>ATL</td>\n",
       "      <td>SLC</td>\n",
       "      <td>LAX</td>\n",
       "      <td>450.23</td>\n",
       "      <td>507.6</td>\n",
       "      <td>2161.0</td>\n",
       "      <td>1587</td>\n",
       "      <td>574</td>\n",
       "      <td>426.0</td>\n",
       "      <td>248.0</td>\n",
       "      <td>103.0</td>\n",
       "      <td>Delta</td>\n",
       "      <td>Delta</td>\n",
       "      <td>19:36:00</td>\n",
       "      <td>21:44:00</td>\n",
       "      <td>22:59:00</td>\n",
       "      <td>23:42:00</td>\n",
       "      <td>75.0</td>\n",
       "      <td>coach</td>\n",
       "      <td>coach</td>\n",
       "      <td>Boeing 757</td>\n",
       "      <td>Boeing 737-800</td>\n",
       "      <td>False</td>\n",
       "    </tr>\n",
       "    <tr>\n",
       "      <th>6</th>\n",
       "      <td>2022-04-16</td>\n",
       "      <td>5</td>\n",
       "      <td>2022-04-17</td>\n",
       "      <td>6</td>\n",
       "      <td>ATL</td>\n",
       "      <td>DFW</td>\n",
       "      <td>LGA</td>\n",
       "      <td>171.16</td>\n",
       "      <td>207.6</td>\n",
       "      <td>2105.0</td>\n",
       "      <td>725</td>\n",
       "      <td>1380</td>\n",
       "      <td>414.0</td>\n",
       "      <td>143.0</td>\n",
       "      <td>205.0</td>\n",
       "      <td>American Airlines</td>\n",
       "      <td>American Airlines</td>\n",
       "      <td>06:05:00</td>\n",
       "      <td>07:28:00</td>\n",
       "      <td>08:34:00</td>\n",
       "      <td>12:59:00</td>\n",
       "      <td>66.0</td>\n",
       "      <td>coach</td>\n",
       "      <td>coach</td>\n",
       "      <td>Airbus A321</td>\n",
       "      <td>Boeing 737-800</td>\n",
       "      <td>False</td>\n",
       "    </tr>\n",
       "    <tr>\n",
       "      <th>7</th>\n",
       "      <td>2022-04-16</td>\n",
       "      <td>5</td>\n",
       "      <td>2022-04-17</td>\n",
       "      <td>6</td>\n",
       "      <td>ATL</td>\n",
       "      <td>LGA</td>\n",
       "      <td>ORD</td>\n",
       "      <td>117.21</td>\n",
       "      <td>149.6</td>\n",
       "      <td>1482.0</td>\n",
       "      <td>762</td>\n",
       "      <td>720</td>\n",
       "      <td>515.0</td>\n",
       "      <td>139.0</td>\n",
       "      <td>165.0</td>\n",
       "      <td>American Airlines</td>\n",
       "      <td>American Airlines</td>\n",
       "      <td>10:40:00</td>\n",
       "      <td>12:59:00</td>\n",
       "      <td>16:30:00</td>\n",
       "      <td>18:15:00</td>\n",
       "      <td>211.0</td>\n",
       "      <td>coach</td>\n",
       "      <td>coach</td>\n",
       "      <td>Embraer 175</td>\n",
       "      <td>Boeing 737-800</td>\n",
       "      <td>False</td>\n",
       "    </tr>\n",
       "  </tbody>\n",
       "</table>\n",
       "</div>"
      ],
      "text/plain": [
       "  searchDate  SearchDayofWeek flightDate  FlightDayofWeek startingAirport  \\\n",
       "0 2022-04-16                5 2022-04-17                6             ATL   \n",
       "3 2022-04-16                5 2022-04-17                6             ATL   \n",
       "4 2022-04-16                5 2022-04-17                6             ATL   \n",
       "6 2022-04-16                5 2022-04-17                6             ATL   \n",
       "7 2022-04-16                5 2022-04-17                6             ATL   \n",
       "\n",
       "  layoverairport destinationAirport  baseFare  totalFare  totalTravelDistance  \\\n",
       "0            ORD                BOS    213.02      252.6               1462.0   \n",
       "3            DEN                LAX    310.70      357.6               2055.0   \n",
       "4            SLC                LAX    450.23      507.6               2161.0   \n",
       "6            DFW                LGA    171.16      207.6               2105.0   \n",
       "7            LGA                ORD    117.21      149.6               1482.0   \n",
       "\n",
       "  segment1distance segment2distance  travelminutes  segment1min  segment2min  \\\n",
       "0              600              862          490.0        130.0        144.0   \n",
       "3             1207              848          563.0        201.0        148.0   \n",
       "4             1587              574          426.0        248.0        103.0   \n",
       "6              725             1380          414.0        143.0        205.0   \n",
       "7              762              720          515.0        139.0        165.0   \n",
       "\n",
       "  segment1AirlineName segment2AirlineName segment1DepartureTime  \\\n",
       "0              United              United              06:10:00   \n",
       "3              United              United              09:00:00   \n",
       "4               Delta               Delta              19:36:00   \n",
       "6   American Airlines   American Airlines              06:05:00   \n",
       "7   American Airlines   American Airlines              10:40:00   \n",
       "\n",
       "  segment1ArrivalTime segment2DepartureTime segment2ArrivalTime  \\\n",
       "0            07:20:00              10:56:00            14:20:00   \n",
       "3            10:21:00              13:55:00            15:23:00   \n",
       "4            21:44:00              22:59:00            23:42:00   \n",
       "6            07:28:00              08:34:00            12:59:00   \n",
       "7            12:59:00              16:30:00            18:15:00   \n",
       "\n",
       "   layoverduration segment1CabinCode segment2CabinCode  \\\n",
       "0            216.0             coach             coach   \n",
       "3            214.0             coach             coach   \n",
       "4             75.0             coach             coach   \n",
       "6             66.0             coach             coach   \n",
       "7            211.0             coach             coach   \n",
       "\n",
       "      segment1EquipmentDescription segment2EquipmentDescription  \\\n",
       "0  Embraer 175 (Enhanced Winglets)             Boeing 737 MAX 9   \n",
       "3                      Airbus A319               Boeing 737-900   \n",
       "4                       Boeing 757               Boeing 737-800   \n",
       "6                      Airbus A321               Boeing 737-800   \n",
       "7                      Embraer 175               Boeing 737-800   \n",
       "\n",
       "   isBasicEconomy  \n",
       "0           False  \n",
       "3           False  \n",
       "4           False  \n",
       "6           False  \n",
       "7           False  "
      ]
     },
     "execution_count": 53,
     "metadata": {},
     "output_type": "execute_result"
    }
   ],
   "source": [
    "df2 = df.copy()\n",
    "df2.head()"
   ]
  },
  {
   "cell_type": "markdown",
   "id": "b02e0525",
   "metadata": {},
   "source": [
    "We decided to define the hidden fee of an airline as the difference between the base price of a ticket -- or the price that is shown on expedia to customers -- and the total price of the ticket. Below, we created an additional column, extraFare, which represents this difference"
   ]
  },
  {
   "cell_type": "code",
   "execution_count": 54,
   "id": "7ede02ce",
   "metadata": {},
   "outputs": [
    {
     "data": {
      "text/plain": [
       "234051    299.18\n",
       "736850    295.07\n",
       "762464    293.57\n",
       "108511    255.50\n",
       "224850    255.43\n",
       "775999    253.92\n",
       "795286    253.92\n",
       "156648    250.33\n",
       "11249     247.29\n",
       "24559     247.29\n",
       "Name: extraFare, dtype: float64"
      ]
     },
     "execution_count": 54,
     "metadata": {},
     "output_type": "execute_result"
    }
   ],
   "source": [
    "df2['extraFare'] = df2.totalFare - df2.baseFare\n",
    "df2.extraFare.nlargest(10)"
   ]
  },
  {
   "cell_type": "markdown",
   "id": "b220abd6",
   "metadata": {},
   "source": [
    "<b>Validity of Finding</b>:"
   ]
  },
  {
   "cell_type": "markdown",
   "id": "aa6cdf2a",
   "metadata": {},
   "source": [
    "Graphing the base fare and the extra fare of each airline to get an idea of how the two charts compare."
   ]
  },
  {
   "cell_type": "code",
   "execution_count": 55,
   "id": "3d16cf28",
   "metadata": {},
   "outputs": [
    {
     "data": {
      "text/plain": [
       "<AxesSubplot:xlabel='Base Ticket Price', ylabel='Airline'>"
      ]
     },
     "execution_count": 55,
     "metadata": {},
     "output_type": "execute_result"
    },
    {
     "data": {
      "image/png": "[encoded data removed]",
      "text/plain": [
       "<Figure size 432x288 with 1 Axes>"
      ]
     },
     "metadata": {
      "needs_background": "light"
     },
     "output_type": "display_data"
    }
   ],
   "source": [
    "# Base Fare Graph\n",
    "series = df2.groupby('segment1AirlineName')['baseFare'].mean().sort_values(ascending = False)\n",
    "\n",
    "df4 = pd.DataFrame({'Airline':series.index, 'Base Ticket Price':series.values})\n",
    "sns.barplot(data = df4, x = 'Base Ticket Price', y = 'Airline')"
   ]
  },
  {
   "cell_type": "code",
   "execution_count": 56,
   "id": "3c236468",
   "metadata": {},
   "outputs": [
    {
     "data": {
      "text/plain": [
       "<AxesSubplot:xlabel='Additional Fees', ylabel='Airline'>"
      ]
     },
     "execution_count": 56,
     "metadata": {},
     "output_type": "execute_result"
    },
    {
     "data": {
      "image/png": "[encoded data removed]",
      "text/plain": [
       "<Figure size 432x288 with 1 Axes>"
      ]
     },
     "metadata": {
      "needs_background": "light"
     },
     "output_type": "display_data"
    }
   ],
   "source": [
    "# Extra Fare Graph\n",
    "series = df2.groupby('segment1AirlineName')['extraFare'].mean().sort_values(ascending = False)\n",
    "\n",
    "df3 = pd.DataFrame({'Airline':series.index, 'Additional Fees':series.values})\n",
    "sns.barplot(data = df3, x = 'Additional Fees', y = 'Airline')\n"
   ]
  },
  {
   "cell_type": "markdown",
   "id": "51ccb374",
   "metadata": {},
   "source": [
    "Noticing that the cheaper airlines seemed to carry higher extra fees than the more expensive airlines, we took a look at what percentage of the base fare that the extra fare was and created a table displaying said percentages."
   ]
  },
  {
   "cell_type": "code",
   "execution_count": 57,
   "id": "cc05542e",
   "metadata": {},
   "outputs": [
    {
     "data": {
      "text/html": [
       "<div>\n",
       "<style scoped>\n",
       "    .dataframe tbody tr th:only-of-type {\n",
       "        vertical-align: middle;\n",
       "    }\n",
       "\n",
       "    .dataframe tbody tr th {\n",
       "        vertical-align: top;\n",
       "    }\n",
       "\n",
       "    .dataframe thead th {\n",
       "        text-align: right;\n",
       "    }\n",
       "</style>\n",
       "<table border=\"1\" class=\"dataframe\">\n",
       "  <thead>\n",
       "    <tr style=\"text-align: right;\">\n",
       "      <th></th>\n",
       "      <th>segment1AirlineName</th>\n",
       "      <th>baseFare</th>\n",
       "      <th>extraFare</th>\n",
       "      <th>percentExtraFare</th>\n",
       "    </tr>\n",
       "  </thead>\n",
       "  <tbody>\n",
       "    <tr>\n",
       "      <th>8</th>\n",
       "      <td>Spirit Airlines</td>\n",
       "      <td>117.188720</td>\n",
       "      <td>90.817279</td>\n",
       "      <td>77.496605</td>\n",
       "    </tr>\n",
       "    <tr>\n",
       "      <th>4</th>\n",
       "      <td>Frontier Airlines</td>\n",
       "      <td>213.324477</td>\n",
       "      <td>41.504376</td>\n",
       "      <td>19.455984</td>\n",
       "    </tr>\n",
       "    <tr>\n",
       "      <th>6</th>\n",
       "      <td>JetBlue Airways</td>\n",
       "      <td>269.122013</td>\n",
       "      <td>45.342174</td>\n",
       "      <td>16.848185</td>\n",
       "    </tr>\n",
       "    <tr>\n",
       "      <th>1</th>\n",
       "      <td>American Airlines</td>\n",
       "      <td>268.933083</td>\n",
       "      <td>43.954281</td>\n",
       "      <td>16.343947</td>\n",
       "    </tr>\n",
       "    <tr>\n",
       "      <th>9</th>\n",
       "      <td>Sun Country Airlines</td>\n",
       "      <td>346.666841</td>\n",
       "      <td>56.197460</td>\n",
       "      <td>16.210798</td>\n",
       "    </tr>\n",
       "    <tr>\n",
       "      <th>10</th>\n",
       "      <td>United</td>\n",
       "      <td>316.368901</td>\n",
       "      <td>48.420086</td>\n",
       "      <td>15.304945</td>\n",
       "    </tr>\n",
       "    <tr>\n",
       "      <th>3</th>\n",
       "      <td>Delta</td>\n",
       "      <td>350.535978</td>\n",
       "      <td>51.002722</td>\n",
       "      <td>14.549925</td>\n",
       "    </tr>\n",
       "    <tr>\n",
       "      <th>0</th>\n",
       "      <td>Alaska Airlines</td>\n",
       "      <td>421.772715</td>\n",
       "      <td>57.118291</td>\n",
       "      <td>13.542434</td>\n",
       "    </tr>\n",
       "    <tr>\n",
       "      <th>2</th>\n",
       "      <td>Cape Air</td>\n",
       "      <td>337.031732</td>\n",
       "      <td>44.201417</td>\n",
       "      <td>13.114913</td>\n",
       "    </tr>\n",
       "    <tr>\n",
       "      <th>7</th>\n",
       "      <td>Key Lime Air</td>\n",
       "      <td>273.920455</td>\n",
       "      <td>28.291894</td>\n",
       "      <td>10.328507</td>\n",
       "    </tr>\n",
       "    <tr>\n",
       "      <th>5</th>\n",
       "      <td>Hawaiian Airlines</td>\n",
       "      <td>744.075000</td>\n",
       "      <td>52.290000</td>\n",
       "      <td>7.027517</td>\n",
       "    </tr>\n",
       "  </tbody>\n",
       "</table>\n",
       "</div>"
      ],
      "text/plain": [
       "     segment1AirlineName    baseFare  extraFare  percentExtraFare\n",
       "8        Spirit Airlines  117.188720  90.817279         77.496605\n",
       "4      Frontier Airlines  213.324477  41.504376         19.455984\n",
       "6        JetBlue Airways  269.122013  45.342174         16.848185\n",
       "1      American Airlines  268.933083  43.954281         16.343947\n",
       "9   Sun Country Airlines  346.666841  56.197460         16.210798\n",
       "10                United  316.368901  48.420086         15.304945\n",
       "3                  Delta  350.535978  51.002722         14.549925\n",
       "0        Alaska Airlines  421.772715  57.118291         13.542434\n",
       "2               Cape Air  337.031732  44.201417         13.114913\n",
       "7           Key Lime Air  273.920455  28.291894         10.328507\n",
       "5      Hawaiian Airlines  744.075000  52.290000          7.027517"
      ]
     },
     "execution_count": 57,
     "metadata": {},
     "output_type": "execute_result"
    }
   ],
   "source": [
    "fareDF = df2.groupby('segment1AirlineName', as_index = False).agg({'baseFare': 'mean', 'extraFare': 'mean'})\n",
    "fareDF['percentExtraFare'] = fareDF.extraFare/fareDF.baseFare * 100\n",
    "sortedFareDF = fareDF.sort_values(by = 'percentExtraFare', ascending = False)\n",
    "sortedFareDF"
   ]
  },
  {
   "cell_type": "code",
   "execution_count": 58,
   "id": "4bd2a5b6",
   "metadata": {
    "scrolled": true
   },
   "outputs": [
    {
     "data": {
      "text/html": [
       "<div>\n",
       "<style scoped>\n",
       "    .dataframe tbody tr th:only-of-type {\n",
       "        vertical-align: middle;\n",
       "    }\n",
       "\n",
       "    .dataframe tbody tr th {\n",
       "        vertical-align: top;\n",
       "    }\n",
       "\n",
       "    .dataframe thead th {\n",
       "        text-align: right;\n",
       "    }\n",
       "</style>\n",
       "<table border=\"1\" class=\"dataframe\">\n",
       "  <thead>\n",
       "    <tr style=\"text-align: right;\">\n",
       "      <th></th>\n",
       "      <th>baseFare</th>\n",
       "      <th>extraFare</th>\n",
       "      <th>percentExtraFare</th>\n",
       "    </tr>\n",
       "  </thead>\n",
       "  <tbody>\n",
       "    <tr>\n",
       "      <th>count</th>\n",
       "      <td>11.000000</td>\n",
       "      <td>11.000000</td>\n",
       "      <td>11.000000</td>\n",
       "    </tr>\n",
       "    <tr>\n",
       "      <th>mean</th>\n",
       "      <td>332.630901</td>\n",
       "      <td>50.830907</td>\n",
       "      <td>20.020342</td>\n",
       "    </tr>\n",
       "    <tr>\n",
       "      <th>std</th>\n",
       "      <td>158.183752</td>\n",
       "      <td>15.464693</td>\n",
       "      <td>19.355837</td>\n",
       "    </tr>\n",
       "    <tr>\n",
       "      <th>min</th>\n",
       "      <td>117.188720</td>\n",
       "      <td>28.291894</td>\n",
       "      <td>7.027517</td>\n",
       "    </tr>\n",
       "    <tr>\n",
       "      <th>25%</th>\n",
       "      <td>269.027548</td>\n",
       "      <td>44.077849</td>\n",
       "      <td>13.328673</td>\n",
       "    </tr>\n",
       "    <tr>\n",
       "      <th>50%</th>\n",
       "      <td>316.368901</td>\n",
       "      <td>48.420086</td>\n",
       "      <td>15.304945</td>\n",
       "    </tr>\n",
       "    <tr>\n",
       "      <th>75%</th>\n",
       "      <td>348.601410</td>\n",
       "      <td>54.243730</td>\n",
       "      <td>16.596066</td>\n",
       "    </tr>\n",
       "    <tr>\n",
       "      <th>max</th>\n",
       "      <td>744.075000</td>\n",
       "      <td>90.817279</td>\n",
       "      <td>77.496605</td>\n",
       "    </tr>\n",
       "  </tbody>\n",
       "</table>\n",
       "</div>"
      ],
      "text/plain": [
       "         baseFare  extraFare  percentExtraFare\n",
       "count   11.000000  11.000000         11.000000\n",
       "mean   332.630901  50.830907         20.020342\n",
       "std    158.183752  15.464693         19.355837\n",
       "min    117.188720  28.291894          7.027517\n",
       "25%    269.027548  44.077849         13.328673\n",
       "50%    316.368901  48.420086         15.304945\n",
       "75%    348.601410  54.243730         16.596066\n",
       "max    744.075000  90.817279         77.496605"
      ]
     },
     "execution_count": 58,
     "metadata": {},
     "output_type": "execute_result"
    }
   ],
   "source": [
    "sortedFareDF.describe()"
   ]
  },
  {
   "cell_type": "markdown",
   "id": "5821a66d",
   "metadata": {},
   "source": [
    "Taking a look at the summary statistics for the percentExtraFare, we can see that the median percentage customers can expect to pay on top of the base ticker price is 15.3%"
   ]
  },
  {
   "cell_type": "markdown",
   "id": "be9d86ca",
   "metadata": {},
   "source": [
    "We then created a graph demostrating how each airline was related to one another."
   ]
  },
  {
   "cell_type": "code",
   "execution_count": 59,
   "id": "ca83c8bf",
   "metadata": {},
   "outputs": [
    {
     "data": {
      "text/plain": [
       "<seaborn.axisgrid.FacetGrid at 0x1a5b0702bb0>"
      ]
     },
     "execution_count": 59,
     "metadata": {},
     "output_type": "execute_result"
    },
    {
     "data": {
      "image/png": "[encoded data removed]",
      "text/plain": [
       "<Figure size 720x360 with 1 Axes>"
      ]
     },
     "metadata": {
      "needs_background": "light"
     },
     "output_type": "display_data"
    }
   ],
   "source": [
    "sns.catplot(x = 'percentExtraFare', y = 'segment1AirlineName', data = sortedFareDF, kind = 'bar', aspect = 2)\\\n",
    "            .set(ylabel = 'Airline', xlabel ='Extra Fare Percentage')"
   ]
  },
  {
   "cell_type": "markdown",
   "id": "361954d7",
   "metadata": {},
   "source": [
    "#### Managerial Insights"
   ]
  },
  {
   "cell_type": "markdown",
   "id": "efc41e1d",
   "metadata": {},
   "source": [
    "After comparing the extra fare percentage graph to the base fare graph, it is clear that the lower the base fare is for an airline, the higher percentage a customer will be paying on top of that fare in extra fees. The two airlines that are inconsistent with this finding are Key Lime Air and Sun Country Air, the reason for the discrepancy likely being that they are smaller, regional airlines. As a general rule, customers can expect to be paying an additional 15.3% on top of the base ticket price for additional fees. "
   ]
  },
  {
   "cell_type": "markdown",
   "id": "02d53111",
   "metadata": {},
   "source": [
    "## Finding 3: Determining the Most Expensive Days + Months to Fly and the Most Common Routes"
   ]
  },
  {
   "cell_type": "markdown",
   "id": "309ea60b",
   "metadata": {},
   "source": [
    "<b>Summary of finding</b>: June had the most expensive prices for flights and LAX had the greatest travel volume. Sunday also remained the most expensive day to fly while Tuesday remained the cheapest."
   ]
  },
  {
   "cell_type": "code",
   "execution_count": 60,
   "id": "7ec572bd",
   "metadata": {},
   "outputs": [
    {
     "data": {
      "text/html": [
       "<div>\n",
       "<style scoped>\n",
       "    .dataframe tbody tr th:only-of-type {\n",
       "        vertical-align: middle;\n",
       "    }\n",
       "\n",
       "    .dataframe tbody tr th {\n",
       "        vertical-align: top;\n",
       "    }\n",
       "\n",
       "    .dataframe thead th {\n",
       "        text-align: right;\n",
       "    }\n",
       "</style>\n",
       "<table border=\"1\" class=\"dataframe\">\n",
       "  <thead>\n",
       "    <tr style=\"text-align: right;\">\n",
       "      <th></th>\n",
       "      <th>searchDate</th>\n",
       "      <th>SearchDayofWeek</th>\n",
       "      <th>flightDate</th>\n",
       "      <th>FlightDayofWeek</th>\n",
       "      <th>startingAirport</th>\n",
       "      <th>layoverairport</th>\n",
       "      <th>destinationAirport</th>\n",
       "      <th>baseFare</th>\n",
       "      <th>totalFare</th>\n",
       "      <th>totalTravelDistance</th>\n",
       "      <th>segment1distance</th>\n",
       "      <th>segment2distance</th>\n",
       "      <th>travelminutes</th>\n",
       "      <th>segment1min</th>\n",
       "      <th>segment2min</th>\n",
       "      <th>segment1AirlineName</th>\n",
       "      <th>segment2AirlineName</th>\n",
       "      <th>segment1DepartureTime</th>\n",
       "      <th>segment1ArrivalTime</th>\n",
       "      <th>segment2DepartureTime</th>\n",
       "      <th>segment2ArrivalTime</th>\n",
       "      <th>layoverduration</th>\n",
       "      <th>segment1CabinCode</th>\n",
       "      <th>segment2CabinCode</th>\n",
       "      <th>segment1EquipmentDescription</th>\n",
       "      <th>segment2EquipmentDescription</th>\n",
       "      <th>isBasicEconomy</th>\n",
       "      <th>extraFare</th>\n",
       "      <th>departureMonth</th>\n",
       "    </tr>\n",
       "  </thead>\n",
       "  <tbody>\n",
       "    <tr>\n",
       "      <th>0</th>\n",
       "      <td>2022-04-16</td>\n",
       "      <td>5</td>\n",
       "      <td>2022-04-17</td>\n",
       "      <td>6</td>\n",
       "      <td>ATL</td>\n",
       "      <td>ORD</td>\n",
       "      <td>BOS</td>\n",
       "      <td>213.02</td>\n",
       "      <td>252.6</td>\n",
       "      <td>1462.0</td>\n",
       "      <td>600</td>\n",
       "      <td>862</td>\n",
       "      <td>490.0</td>\n",
       "      <td>130.0</td>\n",
       "      <td>144.0</td>\n",
       "      <td>United</td>\n",
       "      <td>United</td>\n",
       "      <td>06:10:00</td>\n",
       "      <td>07:20:00</td>\n",
       "      <td>10:56:00</td>\n",
       "      <td>14:20:00</td>\n",
       "      <td>216.0</td>\n",
       "      <td>coach</td>\n",
       "      <td>coach</td>\n",
       "      <td>Embraer 175 (Enhanced Winglets)</td>\n",
       "      <td>Boeing 737 MAX 9</td>\n",
       "      <td>False</td>\n",
       "      <td>39.58</td>\n",
       "      <td>01</td>\n",
       "    </tr>\n",
       "    <tr>\n",
       "      <th>3</th>\n",
       "      <td>2022-04-16</td>\n",
       "      <td>5</td>\n",
       "      <td>2022-04-17</td>\n",
       "      <td>6</td>\n",
       "      <td>ATL</td>\n",
       "      <td>DEN</td>\n",
       "      <td>LAX</td>\n",
       "      <td>310.70</td>\n",
       "      <td>357.6</td>\n",
       "      <td>2055.0</td>\n",
       "      <td>1207</td>\n",
       "      <td>848</td>\n",
       "      <td>563.0</td>\n",
       "      <td>201.0</td>\n",
       "      <td>148.0</td>\n",
       "      <td>United</td>\n",
       "      <td>United</td>\n",
       "      <td>09:00:00</td>\n",
       "      <td>10:21:00</td>\n",
       "      <td>13:55:00</td>\n",
       "      <td>15:23:00</td>\n",
       "      <td>214.0</td>\n",
       "      <td>coach</td>\n",
       "      <td>coach</td>\n",
       "      <td>Airbus A319</td>\n",
       "      <td>Boeing 737-900</td>\n",
       "      <td>False</td>\n",
       "      <td>46.90</td>\n",
       "      <td>01</td>\n",
       "    </tr>\n",
       "    <tr>\n",
       "      <th>4</th>\n",
       "      <td>2022-04-16</td>\n",
       "      <td>5</td>\n",
       "      <td>2022-04-17</td>\n",
       "      <td>6</td>\n",
       "      <td>ATL</td>\n",
       "      <td>SLC</td>\n",
       "      <td>LAX</td>\n",
       "      <td>450.23</td>\n",
       "      <td>507.6</td>\n",
       "      <td>2161.0</td>\n",
       "      <td>1587</td>\n",
       "      <td>574</td>\n",
       "      <td>426.0</td>\n",
       "      <td>248.0</td>\n",
       "      <td>103.0</td>\n",
       "      <td>Delta</td>\n",
       "      <td>Delta</td>\n",
       "      <td>19:36:00</td>\n",
       "      <td>21:44:00</td>\n",
       "      <td>22:59:00</td>\n",
       "      <td>23:42:00</td>\n",
       "      <td>75.0</td>\n",
       "      <td>coach</td>\n",
       "      <td>coach</td>\n",
       "      <td>Boeing 757</td>\n",
       "      <td>Boeing 737-800</td>\n",
       "      <td>False</td>\n",
       "      <td>57.37</td>\n",
       "      <td>01</td>\n",
       "    </tr>\n",
       "    <tr>\n",
       "      <th>6</th>\n",
       "      <td>2022-04-16</td>\n",
       "      <td>5</td>\n",
       "      <td>2022-04-17</td>\n",
       "      <td>6</td>\n",
       "      <td>ATL</td>\n",
       "      <td>DFW</td>\n",
       "      <td>LGA</td>\n",
       "      <td>171.16</td>\n",
       "      <td>207.6</td>\n",
       "      <td>2105.0</td>\n",
       "      <td>725</td>\n",
       "      <td>1380</td>\n",
       "      <td>414.0</td>\n",
       "      <td>143.0</td>\n",
       "      <td>205.0</td>\n",
       "      <td>American Airlines</td>\n",
       "      <td>American Airlines</td>\n",
       "      <td>06:05:00</td>\n",
       "      <td>07:28:00</td>\n",
       "      <td>08:34:00</td>\n",
       "      <td>12:59:00</td>\n",
       "      <td>66.0</td>\n",
       "      <td>coach</td>\n",
       "      <td>coach</td>\n",
       "      <td>Airbus A321</td>\n",
       "      <td>Boeing 737-800</td>\n",
       "      <td>False</td>\n",
       "      <td>36.44</td>\n",
       "      <td>01</td>\n",
       "    </tr>\n",
       "    <tr>\n",
       "      <th>7</th>\n",
       "      <td>2022-04-16</td>\n",
       "      <td>5</td>\n",
       "      <td>2022-04-17</td>\n",
       "      <td>6</td>\n",
       "      <td>ATL</td>\n",
       "      <td>LGA</td>\n",
       "      <td>ORD</td>\n",
       "      <td>117.21</td>\n",
       "      <td>149.6</td>\n",
       "      <td>1482.0</td>\n",
       "      <td>762</td>\n",
       "      <td>720</td>\n",
       "      <td>515.0</td>\n",
       "      <td>139.0</td>\n",
       "      <td>165.0</td>\n",
       "      <td>American Airlines</td>\n",
       "      <td>American Airlines</td>\n",
       "      <td>10:40:00</td>\n",
       "      <td>12:59:00</td>\n",
       "      <td>16:30:00</td>\n",
       "      <td>18:15:00</td>\n",
       "      <td>211.0</td>\n",
       "      <td>coach</td>\n",
       "      <td>coach</td>\n",
       "      <td>Embraer 175</td>\n",
       "      <td>Boeing 737-800</td>\n",
       "      <td>False</td>\n",
       "      <td>32.39</td>\n",
       "      <td>01</td>\n",
       "    </tr>\n",
       "  </tbody>\n",
       "</table>\n",
       "</div>"
      ],
      "text/plain": [
       "  searchDate  SearchDayofWeek flightDate  FlightDayofWeek startingAirport  \\\n",
       "0 2022-04-16                5 2022-04-17                6             ATL   \n",
       "3 2022-04-16                5 2022-04-17                6             ATL   \n",
       "4 2022-04-16                5 2022-04-17                6             ATL   \n",
       "6 2022-04-16                5 2022-04-17                6             ATL   \n",
       "7 2022-04-16                5 2022-04-17                6             ATL   \n",
       "\n",
       "  layoverairport destinationAirport  baseFare  totalFare  totalTravelDistance  \\\n",
       "0            ORD                BOS    213.02      252.6               1462.0   \n",
       "3            DEN                LAX    310.70      357.6               2055.0   \n",
       "4            SLC                LAX    450.23      507.6               2161.0   \n",
       "6            DFW                LGA    171.16      207.6               2105.0   \n",
       "7            LGA                ORD    117.21      149.6               1482.0   \n",
       "\n",
       "  segment1distance segment2distance  travelminutes  segment1min  segment2min  \\\n",
       "0              600              862          490.0        130.0        144.0   \n",
       "3             1207              848          563.0        201.0        148.0   \n",
       "4             1587              574          426.0        248.0        103.0   \n",
       "6              725             1380          414.0        143.0        205.0   \n",
       "7              762              720          515.0        139.0        165.0   \n",
       "\n",
       "  segment1AirlineName segment2AirlineName segment1DepartureTime  \\\n",
       "0              United              United              06:10:00   \n",
       "3              United              United              09:00:00   \n",
       "4               Delta               Delta              19:36:00   \n",
       "6   American Airlines   American Airlines              06:05:00   \n",
       "7   American Airlines   American Airlines              10:40:00   \n",
       "\n",
       "  segment1ArrivalTime segment2DepartureTime segment2ArrivalTime  \\\n",
       "0            07:20:00              10:56:00            14:20:00   \n",
       "3            10:21:00              13:55:00            15:23:00   \n",
       "4            21:44:00              22:59:00            23:42:00   \n",
       "6            07:28:00              08:34:00            12:59:00   \n",
       "7            12:59:00              16:30:00            18:15:00   \n",
       "\n",
       "   layoverduration segment1CabinCode segment2CabinCode  \\\n",
       "0            216.0             coach             coach   \n",
       "3            214.0             coach             coach   \n",
       "4             75.0             coach             coach   \n",
       "6             66.0             coach             coach   \n",
       "7            211.0             coach             coach   \n",
       "\n",
       "      segment1EquipmentDescription segment2EquipmentDescription  \\\n",
       "0  Embraer 175 (Enhanced Winglets)             Boeing 737 MAX 9   \n",
       "3                      Airbus A319               Boeing 737-900   \n",
       "4                       Boeing 757               Boeing 737-800   \n",
       "6                      Airbus A321               Boeing 737-800   \n",
       "7                      Embraer 175               Boeing 737-800   \n",
       "\n",
       "   isBasicEconomy  extraFare departureMonth  \n",
       "0           False      39.58             01  \n",
       "3           False      46.90             01  \n",
       "4           False      57.37             01  \n",
       "6           False      36.44             01  \n",
       "7           False      32.39             01  "
      ]
     },
     "execution_count": 60,
     "metadata": {},
     "output_type": "execute_result"
    }
   ],
   "source": [
    "# Extracting the month from the departure time\n",
    "def extractMonth(departureTime):\n",
    "    month = departureTime.strftime('%m')\n",
    "    if month == '04':\n",
    "        month = 'April'\n",
    "    if month == '05':\n",
    "        month = 'May'\n",
    "    if month == '06':\n",
    "        month = 'June'\n",
    "    if month == '07':\n",
    "        month = 'July'\n",
    "    if month == '08':\n",
    "        month = 'August'\n",
    "    if month == '09':\n",
    "        month = 'September'\n",
    "    if month == '10':\n",
    "        month = 'October'\n",
    "    if month == '11':\n",
    "        month = 'November'\n",
    "    return month\n",
    "df2['departureMonth'] = df2.segment1DepartureTime.apply(lambda x: extractMonth(x))\n",
    "df2.head()"
   ]
  },
  {
   "cell_type": "code",
   "execution_count": 61,
   "id": "bd0cb851",
   "metadata": {
    "scrolled": false
   },
   "outputs": [
    {
     "data": {
      "text/html": [
       "<div>\n",
       "<style scoped>\n",
       "    .dataframe tbody tr th:only-of-type {\n",
       "        vertical-align: middle;\n",
       "    }\n",
       "\n",
       "    .dataframe tbody tr th {\n",
       "        vertical-align: top;\n",
       "    }\n",
       "\n",
       "    .dataframe thead th {\n",
       "        text-align: right;\n",
       "    }\n",
       "</style>\n",
       "<table border=\"1\" class=\"dataframe\">\n",
       "  <thead>\n",
       "    <tr style=\"text-align: right;\">\n",
       "      <th></th>\n",
       "      <th>searchDate</th>\n",
       "      <th>SearchDayofWeek</th>\n",
       "      <th>flightDate</th>\n",
       "      <th>FlightDayofWeek</th>\n",
       "      <th>startingAirport</th>\n",
       "      <th>layoverairport</th>\n",
       "      <th>destinationAirport</th>\n",
       "      <th>baseFare</th>\n",
       "      <th>totalFare</th>\n",
       "      <th>totalTravelDistance</th>\n",
       "      <th>segment1distance</th>\n",
       "      <th>segment2distance</th>\n",
       "      <th>travelminutes</th>\n",
       "      <th>segment1min</th>\n",
       "      <th>segment2min</th>\n",
       "      <th>segment1AirlineName</th>\n",
       "      <th>segment2AirlineName</th>\n",
       "      <th>segment1DepartureTime</th>\n",
       "      <th>segment1ArrivalTime</th>\n",
       "      <th>segment2DepartureTime</th>\n",
       "      <th>segment2ArrivalTime</th>\n",
       "      <th>layoverduration</th>\n",
       "      <th>segment1CabinCode</th>\n",
       "      <th>segment2CabinCode</th>\n",
       "      <th>segment1EquipmentDescription</th>\n",
       "      <th>segment2EquipmentDescription</th>\n",
       "      <th>isBasicEconomy</th>\n",
       "      <th>extraFare</th>\n",
       "      <th>departureMonth</th>\n",
       "    </tr>\n",
       "  </thead>\n",
       "  <tbody>\n",
       "    <tr>\n",
       "      <th>0</th>\n",
       "      <td>2022-04-16</td>\n",
       "      <td>5</td>\n",
       "      <td>2022-04-17</td>\n",
       "      <td>6</td>\n",
       "      <td>ATL</td>\n",
       "      <td>ORD</td>\n",
       "      <td>BOS</td>\n",
       "      <td>213.02</td>\n",
       "      <td>252.6</td>\n",
       "      <td>1462.0</td>\n",
       "      <td>600</td>\n",
       "      <td>862</td>\n",
       "      <td>490.0</td>\n",
       "      <td>130.0</td>\n",
       "      <td>144.0</td>\n",
       "      <td>United</td>\n",
       "      <td>United</td>\n",
       "      <td>06:10:00</td>\n",
       "      <td>07:20:00</td>\n",
       "      <td>10:56:00</td>\n",
       "      <td>14:20:00</td>\n",
       "      <td>216.0</td>\n",
       "      <td>coach</td>\n",
       "      <td>coach</td>\n",
       "      <td>Embraer 175 (Enhanced Winglets)</td>\n",
       "      <td>Boeing 737 MAX 9</td>\n",
       "      <td>False</td>\n",
       "      <td>39.58</td>\n",
       "      <td>April</td>\n",
       "    </tr>\n",
       "    <tr>\n",
       "      <th>3</th>\n",
       "      <td>2022-04-16</td>\n",
       "      <td>5</td>\n",
       "      <td>2022-04-17</td>\n",
       "      <td>6</td>\n",
       "      <td>ATL</td>\n",
       "      <td>DEN</td>\n",
       "      <td>LAX</td>\n",
       "      <td>310.70</td>\n",
       "      <td>357.6</td>\n",
       "      <td>2055.0</td>\n",
       "      <td>1207</td>\n",
       "      <td>848</td>\n",
       "      <td>563.0</td>\n",
       "      <td>201.0</td>\n",
       "      <td>148.0</td>\n",
       "      <td>United</td>\n",
       "      <td>United</td>\n",
       "      <td>09:00:00</td>\n",
       "      <td>10:21:00</td>\n",
       "      <td>13:55:00</td>\n",
       "      <td>15:23:00</td>\n",
       "      <td>214.0</td>\n",
       "      <td>coach</td>\n",
       "      <td>coach</td>\n",
       "      <td>Airbus A319</td>\n",
       "      <td>Boeing 737-900</td>\n",
       "      <td>False</td>\n",
       "      <td>46.90</td>\n",
       "      <td>April</td>\n",
       "    </tr>\n",
       "    <tr>\n",
       "      <th>4</th>\n",
       "      <td>2022-04-16</td>\n",
       "      <td>5</td>\n",
       "      <td>2022-04-17</td>\n",
       "      <td>6</td>\n",
       "      <td>ATL</td>\n",
       "      <td>SLC</td>\n",
       "      <td>LAX</td>\n",
       "      <td>450.23</td>\n",
       "      <td>507.6</td>\n",
       "      <td>2161.0</td>\n",
       "      <td>1587</td>\n",
       "      <td>574</td>\n",
       "      <td>426.0</td>\n",
       "      <td>248.0</td>\n",
       "      <td>103.0</td>\n",
       "      <td>Delta</td>\n",
       "      <td>Delta</td>\n",
       "      <td>19:36:00</td>\n",
       "      <td>21:44:00</td>\n",
       "      <td>22:59:00</td>\n",
       "      <td>23:42:00</td>\n",
       "      <td>75.0</td>\n",
       "      <td>coach</td>\n",
       "      <td>coach</td>\n",
       "      <td>Boeing 757</td>\n",
       "      <td>Boeing 737-800</td>\n",
       "      <td>False</td>\n",
       "      <td>57.37</td>\n",
       "      <td>April</td>\n",
       "    </tr>\n",
       "    <tr>\n",
       "      <th>6</th>\n",
       "      <td>2022-04-16</td>\n",
       "      <td>5</td>\n",
       "      <td>2022-04-17</td>\n",
       "      <td>6</td>\n",
       "      <td>ATL</td>\n",
       "      <td>DFW</td>\n",
       "      <td>LGA</td>\n",
       "      <td>171.16</td>\n",
       "      <td>207.6</td>\n",
       "      <td>2105.0</td>\n",
       "      <td>725</td>\n",
       "      <td>1380</td>\n",
       "      <td>414.0</td>\n",
       "      <td>143.0</td>\n",
       "      <td>205.0</td>\n",
       "      <td>American Airlines</td>\n",
       "      <td>American Airlines</td>\n",
       "      <td>06:05:00</td>\n",
       "      <td>07:28:00</td>\n",
       "      <td>08:34:00</td>\n",
       "      <td>12:59:00</td>\n",
       "      <td>66.0</td>\n",
       "      <td>coach</td>\n",
       "      <td>coach</td>\n",
       "      <td>Airbus A321</td>\n",
       "      <td>Boeing 737-800</td>\n",
       "      <td>False</td>\n",
       "      <td>36.44</td>\n",
       "      <td>April</td>\n",
       "    </tr>\n",
       "    <tr>\n",
       "      <th>7</th>\n",
       "      <td>2022-04-16</td>\n",
       "      <td>5</td>\n",
       "      <td>2022-04-17</td>\n",
       "      <td>6</td>\n",
       "      <td>ATL</td>\n",
       "      <td>LGA</td>\n",
       "      <td>ORD</td>\n",
       "      <td>117.21</td>\n",
       "      <td>149.6</td>\n",
       "      <td>1482.0</td>\n",
       "      <td>762</td>\n",
       "      <td>720</td>\n",
       "      <td>515.0</td>\n",
       "      <td>139.0</td>\n",
       "      <td>165.0</td>\n",
       "      <td>American Airlines</td>\n",
       "      <td>American Airlines</td>\n",
       "      <td>10:40:00</td>\n",
       "      <td>12:59:00</td>\n",
       "      <td>16:30:00</td>\n",
       "      <td>18:15:00</td>\n",
       "      <td>211.0</td>\n",
       "      <td>coach</td>\n",
       "      <td>coach</td>\n",
       "      <td>Embraer 175</td>\n",
       "      <td>Boeing 737-800</td>\n",
       "      <td>False</td>\n",
       "      <td>32.39</td>\n",
       "      <td>April</td>\n",
       "    </tr>\n",
       "  </tbody>\n",
       "</table>\n",
       "</div>"
      ],
      "text/plain": [
       "  searchDate  SearchDayofWeek flightDate  FlightDayofWeek startingAirport  \\\n",
       "0 2022-04-16                5 2022-04-17                6             ATL   \n",
       "3 2022-04-16                5 2022-04-17                6             ATL   \n",
       "4 2022-04-16                5 2022-04-17                6             ATL   \n",
       "6 2022-04-16                5 2022-04-17                6             ATL   \n",
       "7 2022-04-16                5 2022-04-17                6             ATL   \n",
       "\n",
       "  layoverairport destinationAirport  baseFare  totalFare  totalTravelDistance  \\\n",
       "0            ORD                BOS    213.02      252.6               1462.0   \n",
       "3            DEN                LAX    310.70      357.6               2055.0   \n",
       "4            SLC                LAX    450.23      507.6               2161.0   \n",
       "6            DFW                LGA    171.16      207.6               2105.0   \n",
       "7            LGA                ORD    117.21      149.6               1482.0   \n",
       "\n",
       "  segment1distance segment2distance  travelminutes  segment1min  segment2min  \\\n",
       "0              600              862          490.0        130.0        144.0   \n",
       "3             1207              848          563.0        201.0        148.0   \n",
       "4             1587              574          426.0        248.0        103.0   \n",
       "6              725             1380          414.0        143.0        205.0   \n",
       "7              762              720          515.0        139.0        165.0   \n",
       "\n",
       "  segment1AirlineName segment2AirlineName segment1DepartureTime  \\\n",
       "0              United              United              06:10:00   \n",
       "3              United              United              09:00:00   \n",
       "4               Delta               Delta              19:36:00   \n",
       "6   American Airlines   American Airlines              06:05:00   \n",
       "7   American Airlines   American Airlines              10:40:00   \n",
       "\n",
       "  segment1ArrivalTime segment2DepartureTime segment2ArrivalTime  \\\n",
       "0            07:20:00              10:56:00            14:20:00   \n",
       "3            10:21:00              13:55:00            15:23:00   \n",
       "4            21:44:00              22:59:00            23:42:00   \n",
       "6            07:28:00              08:34:00            12:59:00   \n",
       "7            12:59:00              16:30:00            18:15:00   \n",
       "\n",
       "   layoverduration segment1CabinCode segment2CabinCode  \\\n",
       "0            216.0             coach             coach   \n",
       "3            214.0             coach             coach   \n",
       "4             75.0             coach             coach   \n",
       "6             66.0             coach             coach   \n",
       "7            211.0             coach             coach   \n",
       "\n",
       "      segment1EquipmentDescription segment2EquipmentDescription  \\\n",
       "0  Embraer 175 (Enhanced Winglets)             Boeing 737 MAX 9   \n",
       "3                      Airbus A319               Boeing 737-900   \n",
       "4                       Boeing 757               Boeing 737-800   \n",
       "6                      Airbus A321               Boeing 737-800   \n",
       "7                      Embraer 175               Boeing 737-800   \n",
       "\n",
       "   isBasicEconomy  extraFare departureMonth  \n",
       "0           False      39.58          April  \n",
       "3           False      46.90          April  \n",
       "4           False      57.37          April  \n",
       "6           False      36.44          April  \n",
       "7           False      32.39          April  "
      ]
     },
     "execution_count": 61,
     "metadata": {},
     "output_type": "execute_result"
    }
   ],
   "source": [
    "# Extracting the month from the departure date -\n",
    "def extractMonth(departureDate):\n",
    "    #date = datetime.strptime(departureDate, '%Y-%m-%d')\n",
    "    month = departureDate.strftime('%m')\n",
    "    if month == '04':\n",
    "        month = 'April'\n",
    "    if month == '05':\n",
    "        month = 'May'\n",
    "    if month == '06':\n",
    "        month = 'June'\n",
    "    if month == '07':\n",
    "        month = 'July'\n",
    "    if month == '08':\n",
    "        month = 'August'\n",
    "    if month == '09':\n",
    "        month = 'September'\n",
    "    if month == '10':\n",
    "        month = 'October'\n",
    "    if month == '11':\n",
    "        month = 'November'\n",
    "    return month\n",
    "df2['departureMonth'] = df2.flightDate.apply(lambda x: extractMonth(x))\n",
    "df2.head()"
   ]
  },
  {
   "cell_type": "markdown",
   "id": "8b6bbc2b",
   "metadata": {},
   "source": [
    "To avoid skewed data, we do not utilize monthly insights from November because the dataset only included a small number of entries from that month."
   ]
  },
  {
   "cell_type": "code",
   "execution_count": 63,
   "id": "ef9ae406",
   "metadata": {},
   "outputs": [],
   "source": [
    "dfmeasure = df2[df2['departureMonth'] != 'November']"
   ]
  },
  {
   "cell_type": "markdown",
   "id": "9d6f0c51",
   "metadata": {},
   "source": [
    "#### Most Expensive day to fly"
   ]
  },
  {
   "cell_type": "code",
   "execution_count": 78,
   "id": "2efd086e",
   "metadata": {},
   "outputs": [],
   "source": [
    "#extracting the day of week from the flight departure time\n",
    "def extractDayOfWeek(departureDate):\n",
    "    #date = datetime.strptime(departureDate, '%Y-%m-%d')\n",
    "    dayOfWeek = departureDate.weekday()\n",
    "    if dayOfWeek == 0:\n",
    "        dayOfWeek = 'Monday'\n",
    "    if dayOfWeek == 1:\n",
    "        dayOfWeek = 'Tuesday'\n",
    "    if dayOfWeek == 2:\n",
    "        dayOfWeek = 'Wednesday'\n",
    "    if dayOfWeek == 3:\n",
    "        dayOfWeek = 'Thursday'\n",
    "    if dayOfWeek == 4:\n",
    "        dayOfWeek = 'Friday'\n",
    "    if dayOfWeek == 5:\n",
    "        dayOfWeek = 'Saturday'\n",
    "    if dayOfWeek == 6:\n",
    "        dayOfWeek = 'Sunday'\n",
    "    return dayOfWeek\n",
    "df2['dayOfWeek'] = df2.flightDate.apply(lambda x: extractDayOfWeek(x))"
   ]
  },
  {
   "cell_type": "code",
   "execution_count": 79,
   "id": "db37facd",
   "metadata": {
    "scrolled": true
   },
   "outputs": [
    {
     "data": {
      "text/plain": [
       "dayOfWeek\n",
       "Sunday       365.800733\n",
       "Friday       321.634676\n",
       "Monday       312.034700\n",
       "Thursday     306.428773\n",
       "Saturday     290.402201\n",
       "Wednesday    259.144081\n",
       "Tuesday      250.142302\n",
       "Name: baseFare, dtype: float64"
      ]
     },
     "execution_count": 79,
     "metadata": {},
     "output_type": "execute_result"
    }
   ],
   "source": [
    "dfmeasure.groupby('dayOfWeek').baseFare.mean().sort_values(ascending = False)"
   ]
  },
  {
   "cell_type": "code",
   "execution_count": 80,
   "id": "189abd50",
   "metadata": {
    "scrolled": true
   },
   "outputs": [
    {
     "data": {
      "text/plain": [
       "<seaborn.axisgrid.FacetGrid at 0x1a5a3dd5970>"
      ]
     },
     "execution_count": 80,
     "metadata": {},
     "output_type": "execute_result"
    },
    {
     "data": {
      "image/png": "[encoded data removed]",
      "text/plain": [
       "<Figure size 720x360 with 1 Axes>"
      ]
     },
     "metadata": {
      "needs_background": "light"
     },
     "output_type": "display_data"
    }
   ],
   "source": [
    "sns.catplot(y = 'baseFare', x = 'dayOfWeek', data = dfmeasure, kind = 'point', aspect = 2)\\\n",
    "        .set(ylabel = 'Base Ticket Price', xlabel = 'Day of Week')"
   ]
  },
  {
   "cell_type": "code",
   "execution_count": 66,
   "id": "eb6db8cd",
   "metadata": {},
   "outputs": [
    {
     "data": {
      "text/plain": [
       "dayOfWeek\n",
       "Tuesday      81563\n",
       "Wednesday    79167\n",
       "Thursday     72888\n",
       "Monday       72424\n",
       "Friday       70850\n",
       "Saturday     67367\n",
       "Sunday       61837\n",
       "Name: totalFare, dtype: int64"
      ]
     },
     "execution_count": 66,
     "metadata": {},
     "output_type": "execute_result"
    }
   ],
   "source": [
    "dfmeasure.groupby('dayOfWeek').totalFare.count().nlargest(10)"
   ]
  },
  {
   "cell_type": "markdown",
   "id": "bbd8e293",
   "metadata": {},
   "source": [
    "The most expensive flights on average oocured on Sunday at 365 dollars per base ticket. Throughout the week, flight tickets dropped with Tuesday being the cheapest day to fly. Tuesdays average base ticket price was at 250 dollars which is over 100 dollars cheaper than Sunday as well. However, it is important nothing that Tuesday had the greatest flight volume while Sunday had the lowest.  "
   ]
  },
  {
   "cell_type": "markdown",
   "id": "e3161dea",
   "metadata": {},
   "source": [
    "#### Most Expensive Months to Fly "
   ]
  },
  {
   "cell_type": "code",
   "execution_count": 67,
   "id": "74ddd2f8",
   "metadata": {},
   "outputs": [
    {
     "data": {
      "text/plain": [
       "departureMonth\n",
       "April        303.005508\n",
       "August       284.765895\n",
       "July         343.528346\n",
       "June         362.896251\n",
       "May          325.940079\n",
       "October      253.314781\n",
       "September    249.962677\n",
       "Name: baseFare, dtype: float64"
      ]
     },
     "execution_count": 67,
     "metadata": {},
     "output_type": "execute_result"
    }
   ],
   "source": [
    "dfmeasure.groupby('departureMonth').baseFare.mean()"
   ]
  },
  {
   "cell_type": "code",
   "execution_count": 68,
   "id": "61717357",
   "metadata": {
    "scrolled": false
   },
   "outputs": [
    {
     "data": {
      "text/plain": [
       "<seaborn.axisgrid.FacetGrid at 0x1a5a4280550>"
      ]
     },
     "execution_count": 68,
     "metadata": {},
     "output_type": "execute_result"
    },
    {
     "data": {
      "image/png": "[encoded data removed]",
      "text/plain": [
       "<Figure size 720x360 with 1 Axes>"
      ]
     },
     "metadata": {
      "needs_background": "light"
     },
     "output_type": "display_data"
    }
   ],
   "source": [
    "sns.catplot(y = 'baseFare', x = 'departureMonth', data = dfmeasure, kind = 'point', aspect = 2)\\\n",
    "        .set(ylabel = 'Base Ticket Price', xlabel = 'Month')"
   ]
  },
  {
   "cell_type": "code",
   "execution_count": 69,
   "id": "329e9815",
   "metadata": {},
   "outputs": [
    {
     "data": {
      "text/plain": [
       "departureMonth\n",
       "August       113254\n",
       "September    110912\n",
       "July          84525\n",
       "June          73625\n",
       "October       70351\n",
       "May           47231\n",
       "April          6198\n",
       "Name: totalFare, dtype: int64"
      ]
     },
     "execution_count": 69,
     "metadata": {},
     "output_type": "execute_result"
    }
   ],
   "source": [
    "dfmeasure.groupby('departureMonth').totalFare.count().nlargest(10)"
   ]
  },
  {
   "cell_type": "markdown",
   "id": "d3b85e4c",
   "metadata": {},
   "source": [
    "The most expensive flights on average occured during the month of June at 362 dollars per base ticket. After June, flight tickets dropped with September being the cheapest month to fly at 249 dollars on average. Overall, we can infer that the summer months of traveling carry higher base ticket prices and the start of fall remains a relatively cheap time to fly. "
   ]
  },
  {
   "cell_type": "markdown",
   "id": "2aafc28b",
   "metadata": {},
   "source": [
    "#### Most Expensive Months to Fly per Day of Week "
   ]
  },
  {
   "cell_type": "code",
   "execution_count": 70,
   "id": "3192d6b0",
   "metadata": {
    "scrolled": true
   },
   "outputs": [
    {
     "data": {
      "text/plain": [
       "<seaborn.axisgrid.FacetGrid at 0x1a5b07cbfa0>"
      ]
     },
     "execution_count": 70,
     "metadata": {},
     "output_type": "execute_result"
    },
    {
     "data": {
      "image/png": "[encoded data removed]",
      "text/plain": [
       "<Figure size 1173.88x360 with 1 Axes>"
      ]
     },
     "metadata": {
      "needs_background": "light"
     },
     "output_type": "display_data"
    }
   ],
   "source": [
    "sns.catplot(x = 'departureMonth', y= 'baseFare', data = dfmeasure, hue = 'dayOfWeek', kind = 'bar', aspect = 3)\\\n",
    "        .set(xlabel = 'Month', ylabel = 'Base Ticket Price')"
   ]
  },
  {
   "cell_type": "markdown",
   "id": "a36cc18f",
   "metadata": {},
   "source": [
    "The most expensive flights occured typically during June. It's also interesting to note that the Sunday during April had expensive base ticket prices given major hloidays such as Easter or increased travel during spring break as well. Lastly, we see that the average price of flights slowly decrease after June and remains the lowest during September. People flying on Tuesday during October would be paying the lowest base ticket as well."
   ]
  },
  {
   "cell_type": "markdown",
   "id": "69f339ed",
   "metadata": {},
   "source": [
    "#### Find the most Common routes "
   ]
  },
  {
   "cell_type": "code",
   "execution_count": 71,
   "id": "84ad48bc",
   "metadata": {},
   "outputs": [
    {
     "data": {
      "text/plain": [
       "startingAirport  destinationAirport\n",
       "LGA              LAX                   6279\n",
       "LAX              LGA                   6143\n",
       "ATL              LAX                   5649\n",
       "LAX              DTW                   5233\n",
       "                 BOS                   5070\n",
       "DTW              LAX                   4953\n",
       "LAX              ATL                   4930\n",
       "CLT              LAX                   4785\n",
       "LAX              PHL                   4679\n",
       "BOS              LAX                   4622\n",
       "dtype: int64"
      ]
     },
     "execution_count": 71,
     "metadata": {},
     "output_type": "execute_result"
    }
   ],
   "source": [
    "frequency = df2.groupby(['startingAirport', 'destinationAirport']).size().nlargest(10)\n",
    "frequency"
   ]
  },
  {
   "cell_type": "code",
   "execution_count": 72,
   "id": "184ca71f",
   "metadata": {},
   "outputs": [
    {
     "data": {
      "text/plain": [
       "[Text(33.0, 0.5, 'Starting'), Text(0.5, 15.0, 'Destination')]"
      ]
     },
     "execution_count": 72,
     "metadata": {},
     "output_type": "execute_result"
    },
    {
     "data": {
      "image/png": "[encoded data removed]",
      "text/plain": [
       "<Figure size 432x288 with 2 Axes>"
      ]
     },
     "metadata": {
      "needs_background": "light"
     },
     "output_type": "display_data"
    }
   ],
   "source": [
    "sns.heatmap(data=frequency.unstack(), annot = True, cmap= 'Purples')\\\n",
    ".set(ylabel = 'Starting', xlabel = 'Destination')"
   ]
  },
  {
   "cell_type": "markdown",
   "id": "776a0f1d",
   "metadata": {},
   "source": [
    "We see that LAX is the busiest airport since the majority of the departures and arrivals contains this airport. LAX is also one of the bigger airports that we analyzed in this dataset as well so this finding comes to no surprise for our group. With this, we decided to analyze what time is the most popular time to fly to LAX. "
   ]
  },
  {
   "cell_type": "code",
   "execution_count": 73,
   "id": "cb28f31e",
   "metadata": {
    "scrolled": true
   },
   "outputs": [
    {
     "data": {
      "text/plain": [
       "startingAirport  destinationAirport  departureMonth\n",
       "LGA              LAX                 August            1315\n",
       "LAX              LGA                 September         1297\n",
       "                                     August            1257\n",
       "LGA              LAX                 September         1218\n",
       "LAX              DTW                 September         1214\n",
       "ATL              LAX                 August            1213\n",
       "                                     September         1211\n",
       "LAX              DTW                 August            1130\n",
       "LGA              LAX                 July              1112\n",
       "LAX              BOS                 August            1082\n",
       "dtype: int64"
      ]
     },
     "execution_count": 73,
     "metadata": {},
     "output_type": "execute_result"
    }
   ],
   "source": [
    "LAXtracker = df2.groupby(['startingAirport', 'destinationAirport', 'departureMonth']).size().nlargest(10)\n",
    "LAXtracker"
   ]
  },
  {
   "cell_type": "code",
   "execution_count": 74,
   "id": "19930fd5",
   "metadata": {
    "scrolled": true
   },
   "outputs": [
    {
     "data": {
      "text/plain": [
       "[Text(33.0, 0.5, 'Route'), Text(0.5, 15.0, 'Month')]"
      ]
     },
     "execution_count": 74,
     "metadata": {},
     "output_type": "execute_result"
    },
    {
     "data": {
      "image/png": "[encoded data removed]",
      "text/plain": [
       "<Figure size 432x288 with 2 Axes>"
      ]
     },
     "metadata": {
      "needs_background": "light"
     },
     "output_type": "display_data"
    }
   ],
   "source": [
    "sns.heatmap(data=LAXtracker.unstack(), annot = True, cmap= 'Spectral')\\\n",
    ".set(ylabel = 'Route', xlabel = 'Month')"
   ]
  },
  {
   "cell_type": "markdown",
   "id": "436ee320",
   "metadata": {},
   "source": [
    "From this heatmap, we can see that the busiest time of LAX is between the months of August and September in the dataset."
   ]
  },
  {
   "cell_type": "markdown",
   "id": "68ebcbb0",
   "metadata": {},
   "source": [
    "#### Managerial Insights"
   ]
  },
  {
   "cell_type": "markdown",
   "id": "1385310a",
   "metadata": {},
   "source": [
    "After looking at the 3 graphs for dates and months, it is evident that midweek remains cheaper to fly than weekends and the Fall months are also cheaper to fly compared to summer. Travelers should also avoid flying especially on Fridays or Sundays since those 2 days specifically have the most expensive base ticket prices on average.\n",
    "\n",
    "Lastly, customers can expect that LAX will be the most popular airport, especially in August and September."
   ]
  }
 ],
 "metadata": {
  "colab": {
   "provenance": []
  },
  "kernelspec": {
   "display_name": "Python 3 (ipykernel)",
   "language": "python",
   "name": "python3"
  },
  "language_info": {
   "codemirror_mode": {
    "name": "ipython",
    "version": 3
   },
   "file_extension": ".py",
   "mimetype": "text/x-python",
   "name": "python",
   "nbconvert_exporter": "python",
   "pygments_lexer": "ipython3",
   "version": "3.9.12"
  }
 },
 "nbformat": 4,
 "nbformat_minor": 5
}
